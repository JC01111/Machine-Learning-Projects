{
 "cells": [
  {
   "cell_type": "markdown",
   "id": "ec38cb26",
   "metadata": {
    "id": "xxYASTXBDVc3",
    "papermill": {
     "duration": 0.116197,
     "end_time": "2024-04-20T03:17:07.273577",
     "exception": false,
     "start_time": "2024-04-20T03:17:07.157380",
     "status": "completed"
    },
    "tags": []
   },
   "source": [
    "# Neural Networks\n",
    "\n",
    "This project is designed to get you familiar with how engineerings in the real world train neural network systems. It isn't designed to be difficult. In fact, everything you need to complete the assignment is available directly on the pytorch website [here](https://pytorch.org/tutorials/beginner/blitz/neural_networks_tutorial.html). This note book will have the following components:\n",
    "\n",
    "1. Understanding the basics of Pytorch (no deliverables)\n",
    "2. Training a simple neural network on MNIST (Deliverable = training graphs)\n",
    "3. Train a model on CIFAR-10 for Kaggle (Deliverable = kaggle submission and explanation of methods)\n",
    "\n",
    "The last part of this notebook is left open for you to explore as many techniques as you want to do as well as possible on the dataset.\n",
    "\n",
    "You will also get practice being an ML engineer by reading documentation and using it to implement models. The first section of this notebook will cover an outline of what you need to know -- we are confident that you can find the rest on your own.\n",
    "\n",
    "Note that like all other assignments, you are free to use this notebook or not. You just need to complete the deliverables and turn in your code. If you want to run everything outside of the notebook, make sure to appropriately install pytorch to download the datasets and copy out the code for kaggle submission. If you don't want to use pytorch and instead want to use Tensorflow, feel free, but you may still need to install pytorch to download the datasets. That said, we will recommend pytorch over tensorflow since the latter has a somewhat steep learning curve and the former is more accessible to beginners.\n"
   ]
  },
  {
   "cell_type": "code",
   "execution_count": 1,
   "id": "d4bf2988",
   "metadata": {
    "execution": {
     "iopub.execute_input": "2024-04-20T03:17:07.509193Z",
     "iopub.status.busy": "2024-04-20T03:17:07.508810Z",
     "iopub.status.idle": "2024-04-20T03:17:13.792166Z",
     "shell.execute_reply": "2024-04-20T03:17:13.791367Z"
    },
    "id": "5qoJVI0RCyaH",
    "papermill": {
     "duration": 6.403518,
     "end_time": "2024-04-20T03:17:13.794434",
     "exception": false,
     "start_time": "2024-04-20T03:17:07.390916",
     "status": "completed"
    },
    "tags": []
   },
   "outputs": [],
   "source": [
    "# Imports for pytorch\n",
    "import numpy as np\n",
    "import torch\n",
    "import torchvision\n",
    "from torch import nn\n",
    "import matplotlib\n",
    "from matplotlib import pyplot as plt\n",
    "import tqdm\n",
    "\n",
    "from torch.utils.data import DataLoader, random_split\n",
    "from torch.optim.lr_scheduler import ReduceLROnPlateau\n",
    "import random\n",
    "from torchvision import transforms\n",
    "\n",
    "seed = 189\n",
    "torch.manual_seed(seed)\n",
    "np.random.seed(seed)\n",
    "random.seed(seed)\n",
    "torch.cuda.manual_seed(seed)\n",
    "torch.cuda.manual_seed_all(seed)\n",
    "torch.backends.cudnn.deterministic = True\n",
    "torch.backends.cudnn.benchmark = False"
   ]
  },
  {
   "cell_type": "markdown",
   "id": "0681a07d",
   "metadata": {
    "id": "9-GpmsVIEYLn",
    "papermill": {
     "duration": 0.118006,
     "end_time": "2024-04-20T03:17:14.028213",
     "exception": false,
     "start_time": "2024-04-20T03:17:13.910207",
     "status": "completed"
    },
    "tags": []
   },
   "source": [
    "# 1. Understanding Pytorch\n",
    "\n",
    "Pytorch is based on the \"autograd\" paradigm. Essentially, you perform operations on multi-dimensional arrays like in numpy, except pytorch will automatically handle gradient tracking. In this section you will understand how to use pytorch.\n",
    "\n",
    "This section should help you understand the full pipeline of creating and training a model in pytorch. Feel free to re-use code from this section in the assigned tasks.\n",
    "\n",
    "Content in this section closely follows this pytorch tutorial: https://pytorch.org/tutorials/beginner/basics/intro.html"
   ]
  },
  {
   "cell_type": "markdown",
   "id": "721c5258",
   "metadata": {
    "id": "OgaXYlojE5Pm",
    "papermill": {
     "duration": 0.11752,
     "end_time": "2024-04-20T03:17:14.311261",
     "exception": false,
     "start_time": "2024-04-20T03:17:14.193741",
     "status": "completed"
    },
    "tags": []
   },
   "source": [
    "## Tensors\n",
    "\n",
    "Tensors can be created from numpy data or by using pytorch directly."
   ]
  },
  {
   "cell_type": "code",
   "execution_count": 2,
   "id": "19f8230f",
   "metadata": {
    "execution": {
     "iopub.execute_input": "2024-04-20T03:17:14.550680Z",
     "iopub.status.busy": "2024-04-20T03:17:14.550218Z",
     "iopub.status.idle": "2024-04-20T03:17:14.632848Z",
     "shell.execute_reply": "2024-04-20T03:17:14.631459Z"
    },
    "executionInfo": {
     "elapsed": 417,
     "status": "ok",
     "timestamp": 1713116644232,
     "user": {
      "displayName": "JAY CHEN",
      "userId": "06914961642607435287"
     },
     "user_tz": 420
    },
    "id": "6iKkuKmnFNvP",
    "outputId": "ce9b920b-5576-45d3-ffc1-f4bfc406514e",
    "papermill": {
     "duration": 0.206367,
     "end_time": "2024-04-20T03:17:14.634973",
     "exception": false,
     "start_time": "2024-04-20T03:17:14.428606",
     "status": "completed"
    },
    "tags": []
   },
   "outputs": [
    {
     "name": "stdout",
     "output_type": "stream",
     "text": [
      "Tensor from np: \n",
      " tensor([[1, 2],\n",
      "        [3, 4]]) \n",
      "\n",
      "Rand Tensor: \n",
      " tensor([[0.2136, 0.0424, 0.7420],\n",
      "        [0.3987, 0.8749, 0.7304]]) \n",
      "\n",
      "Rand Numpy Array: \n",
      " [[0.21356577 0.04237747 0.7420152 ]\n",
      " [0.39865988 0.87493867 0.73042464]] \n",
      "\n"
     ]
    }
   ],
   "source": [
    "data = [[1, 2],[3, 4]]\n",
    "x_data = torch.tensor(data)\n",
    "\n",
    "np_array = np.array(data)\n",
    "x_np = torch.from_numpy(np_array)\n",
    "\n",
    "shape = (2,3,)\n",
    "rand_tensor = torch.rand(shape)\n",
    "np_rand_array = rand_tensor.numpy()\n",
    "\n",
    "print(f\"Tensor from np: \\n {x_np} \\n\")\n",
    "print(f\"Rand Tensor: \\n {rand_tensor} \\n\")\n",
    "print(f\"Rand Numpy Array: \\n {np_rand_array} \\n\")"
   ]
  },
  {
   "cell_type": "markdown",
   "id": "493815cb",
   "metadata": {
    "id": "UEeXQUJqFk0k",
    "papermill": {
     "duration": 0.116978,
     "end_time": "2024-04-20T03:17:14.868494",
     "exception": false,
     "start_time": "2024-04-20T03:17:14.751516",
     "status": "completed"
    },
    "tags": []
   },
   "source": [
    "They also support slicing and math operations very similar to numpy. See the examples below:"
   ]
  },
  {
   "cell_type": "code",
   "execution_count": 3,
   "id": "fcb352eb",
   "metadata": {
    "execution": {
     "iopub.execute_input": "2024-04-20T03:17:15.106325Z",
     "iopub.status.busy": "2024-04-20T03:17:15.105705Z",
     "iopub.status.idle": "2024-04-20T03:17:15.154124Z",
     "shell.execute_reply": "2024-04-20T03:17:15.153210Z"
    },
    "executionInfo": {
     "elapsed": 9,
     "status": "ok",
     "timestamp": 1713116644232,
     "user": {
      "displayName": "JAY CHEN",
      "userId": "06914961642607435287"
     },
     "user_tz": 420
    },
    "id": "zIGbRiM-FfCx",
    "outputId": "3d171d74-de2c-404f-a5f9-6c804efc2565",
    "papermill": {
     "duration": 0.170353,
     "end_time": "2024-04-20T03:17:15.156305",
     "exception": false,
     "start_time": "2024-04-20T03:17:14.985952",
     "status": "completed"
    },
    "tags": []
   },
   "outputs": [
    {
     "name": "stdout",
     "output_type": "stream",
     "text": [
      "First row:  tensor([1., 1., 1., 1.])\n",
      "First column:  tensor([1., 1., 1., 1.])\n",
      "Sum as a tensor: tensor(64.) , Sum as an item: 64.0\n"
     ]
    }
   ],
   "source": [
    "# Slicing\n",
    "tensor = torch.ones(4, 4)\n",
    "print('First row: ',tensor[0])\n",
    "print('First column: ', tensor[:, 0])\n",
    "\n",
    "# Matrix Operations\n",
    "y1 = tensor @ tensor.T\n",
    "y2 = tensor.matmul(tensor.T)\n",
    "\n",
    "# Getting a single item\n",
    "scalar = torch.sum(y1) # sums all elements\n",
    "item = scalar.item()\n",
    "print(\"Sum as a tensor:\", scalar, \", Sum as an item:\", item)"
   ]
  },
  {
   "cell_type": "markdown",
   "id": "d74b8a5b",
   "metadata": {
    "id": "g0fscsOfH3dz",
    "papermill": {
     "duration": 0.117303,
     "end_time": "2024-04-20T03:17:15.391107",
     "exception": false,
     "start_time": "2024-04-20T03:17:15.273804",
     "status": "completed"
    },
    "tags": []
   },
   "source": [
    "## Autograd\n",
    "This small section shows you how pytorch computes gradients. When we create tenors, we can set `requires_grad` to be true to indicate that we are using gradients. For most of the work that you actually do, you will use the `nn` package, which automatically sets all parameter tensors to have `requires_grad=True`."
   ]
  },
  {
   "cell_type": "code",
   "execution_count": 4,
   "id": "1208185e",
   "metadata": {
    "execution": {
     "iopub.execute_input": "2024-04-20T03:17:15.631730Z",
     "iopub.status.busy": "2024-04-20T03:17:15.631148Z",
     "iopub.status.idle": "2024-04-20T03:17:15.715777Z",
     "shell.execute_reply": "2024-04-20T03:17:15.714744Z"
    },
    "executionInfo": {
     "elapsed": 7,
     "status": "ok",
     "timestamp": 1713116644233,
     "user": {
      "displayName": "JAY CHEN",
      "userId": "06914961642607435287"
     },
     "user_tz": 420
    },
    "id": "X1btdxFJIvz_",
    "outputId": "89116541-ba76-4b9b-931b-ab2bd3e701b9",
    "papermill": {
     "duration": 0.208775,
     "end_time": "2024-04-20T03:17:15.718101",
     "exception": false,
     "start_time": "2024-04-20T03:17:15.509326",
     "status": "completed"
    },
    "tags": []
   },
   "outputs": [
    {
     "name": "stdout",
     "output_type": "stream",
     "text": [
      "W gradient: tensor([[0.0538],\n",
      "        [0.0538],\n",
      "        [0.0538],\n",
      "        [0.0538],\n",
      "        [0.0538]])\n",
      "b gradient: tensor([0.0538])\n",
      "Weight before tensor([[ 0.3402],\n",
      "        [-1.1699],\n",
      "        [ 0.2658],\n",
      "        [ 0.2334],\n",
      "        [-3.1901]], requires_grad=True)\n",
      "Updated weight tensor([[ 0.3348],\n",
      "        [-1.1753],\n",
      "        [ 0.2604],\n",
      "        [ 0.2280],\n",
      "        [-3.1955]], requires_grad=True)\n"
     ]
    }
   ],
   "source": [
    "# Below is an example of computing the gradient for a single data point in logistic regression using pytorch's autograd.\n",
    "\n",
    "x = torch.ones(5)  # input tensor\n",
    "y = torch.zeros(1) # label\n",
    "w = torch.randn(5, 1, requires_grad=True)\n",
    "b = torch.randn(1, requires_grad=True)\n",
    "pred = torch.sigmoid(torch.matmul(x, w) + b)\n",
    "loss = torch.nn.functional.binary_cross_entropy(pred, y)\n",
    "loss.backward() # Computers gradients\n",
    "print(\"W gradient:\", w.grad)\n",
    "print(\"b gradient:\", b.grad)\n",
    "\n",
    "# when we want to actually take an update step, we can use optimizers:\n",
    "optimizer = torch.optim.SGD([w, b], lr=0.1)\n",
    "print(\"Weight before\", w)\n",
    "optimizer.step() # use the computed gradients to update\n",
    "# Print updated weights\n",
    "print(\"Updated weight\", w)\n",
    "\n",
    "# Performing operations with gradients enabled is slow...\n",
    "# You can disable gradient computation using the following enclosure:\n",
    "with torch.no_grad():\n",
    "    # Perform operations without gradients\n",
    "    ..."
   ]
  },
  {
   "cell_type": "markdown",
   "id": "e27f7e6e",
   "metadata": {
    "id": "5n9WqzZdGf-J",
    "papermill": {
     "duration": 0.11844,
     "end_time": "2024-04-20T03:17:15.956207",
     "exception": false,
     "start_time": "2024-04-20T03:17:15.837767",
     "status": "completed"
    },
    "tags": []
   },
   "source": [
    "## Devices\n",
    "Pytorch supports accelerating computation using GPUs which are available on google colab. To use a GPU on google colab, go to runtime -> change runtime type -> select GPU.\n",
    "\n",
    "Note that there is some level of strategy for knowing when to use which runtime type. Colab will kick users off of GPU for a certain period of time if you use it too much. Thus, its best to run simple models and prototype to get everything working on CPU, then switch the instance type over to GPU for training runs and parameter tuning.\n",
    "\n",
    "Its best practice to make sure your code works on any device (GPU or CPU) for pytorch, but note that numpy operations can only run on the CPU. Here is a standard flow for using GPU acceleration:"
   ]
  },
  {
   "cell_type": "code",
   "execution_count": 5,
   "id": "b88cd884",
   "metadata": {
    "execution": {
     "iopub.execute_input": "2024-04-20T03:17:16.194753Z",
     "iopub.status.busy": "2024-04-20T03:17:16.194387Z",
     "iopub.status.idle": "2024-04-20T03:17:16.392429Z",
     "shell.execute_reply": "2024-04-20T03:17:16.391539Z"
    },
    "executionInfo": {
     "elapsed": 5,
     "status": "ok",
     "timestamp": 1713116644233,
     "user": {
      "displayName": "JAY CHEN",
      "userId": "06914961642607435287"
     },
     "user_tz": 420
    },
    "id": "LwHYcdpmG0Tq",
    "outputId": "9676edfa-1fea-42b1-b90a-c16c78d07b56",
    "papermill": {
     "duration": 0.319575,
     "end_time": "2024-04-20T03:17:16.394585",
     "exception": false,
     "start_time": "2024-04-20T03:17:16.075010",
     "status": "completed"
    },
    "tags": []
   },
   "outputs": [
    {
     "name": "stdout",
     "output_type": "stream",
     "text": [
      "Using device cuda\n"
     ]
    }
   ],
   "source": [
    "# Determine the device\n",
    "device = torch.device(\"cuda\" if torch.cuda.is_available() else \"cpu\")\n",
    "print(\"Using device\", device)\n",
    "# Next create your tensors\n",
    "tensor = torch.zeros(4, 4, requires_grad=True)\n",
    "# Move the tensor to the device you want to use\n",
    "tensor = tensor.to(device)\n",
    "\n",
    "# Perform whatever operations you want.... (often this will involve gradients)\n",
    "# These operations will be accelerated by GPU.\n",
    "tensor = 10*(tensor + 1)\n",
    "\n",
    "# bring the tensor back to CPU, first detaching it from any gradient computations\n",
    "tensor = tensor.detach().cpu()\n",
    "\n",
    "tensor_np = tensor.numpy() # Convert to numpy if you want to perform numpy operations."
   ]
  },
  {
   "cell_type": "markdown",
   "id": "20ccd17f",
   "metadata": {
    "id": "IZvRtdC1NZFe",
    "papermill": {
     "duration": 0.116869,
     "end_time": "2024-04-20T03:17:16.627542",
     "exception": false,
     "start_time": "2024-04-20T03:17:16.510673",
     "status": "completed"
    },
    "tags": []
   },
   "source": [
    "## The NN Package\n",
    "Pytorch implements composable blocks in `Module` classes. All layers and modules in pytorch inherit from `nn.Module`. When you make a module you need to implement two functions: `__init__(self, *args, **kwargs)` and `forward(self, *args, **kwargs)`. Modules also have some nice helper functions, namely `parameters` which will recursively return all of the parameters. Here is an example of a logistic regression model:"
   ]
  },
  {
   "cell_type": "code",
   "execution_count": 6,
   "id": "46923a1e",
   "metadata": {
    "execution": {
     "iopub.execute_input": "2024-04-20T03:17:16.864311Z",
     "iopub.status.busy": "2024-04-20T03:17:16.863941Z",
     "iopub.status.idle": "2024-04-20T03:17:17.087926Z",
     "shell.execute_reply": "2024-04-20T03:17:17.086597Z"
    },
    "executionInfo": {
     "elapsed": 331,
     "status": "ok",
     "timestamp": 1713116644561,
     "user": {
      "displayName": "JAY CHEN",
      "userId": "06914961642607435287"
     },
     "user_tz": 420
    },
    "id": "rNvfGFz4OTp_",
    "outputId": "9eb868af-fe88-4aa7-b626-fee72d5aa2e0",
    "papermill": {
     "duration": 0.344012,
     "end_time": "2024-04-20T03:17:17.089970",
     "exception": false,
     "start_time": "2024-04-20T03:17:16.745958",
     "status": "completed"
    },
    "tags": []
   },
   "outputs": [
    {
     "name": "stdout",
     "output_type": "stream",
     "text": [
      "Parameters [Parameter containing:\n",
      "tensor([[ 2.9598e-01,  6.9345e-02, -1.9255e-03,  4.6366e-03,  1.0172e-01,\n",
      "         -2.0564e-01, -1.1215e-04, -9.6568e-02, -1.0986e-01,  2.9084e-01]],\n",
      "       device='cuda:0', requires_grad=True), Parameter containing:\n",
      "tensor([-0.1188], device='cuda:0', requires_grad=True)]\n"
     ]
    }
   ],
   "source": [
    "class Perceptron(nn.Module):\n",
    "  def __init__(self, in_dim):\n",
    "    super().__init__()\n",
    "    self.layer = nn.Linear(in_dim, 1) # This is a linear layer, it computes Xw + b\n",
    "\n",
    "  def forward(self, x):\n",
    "    return torch.sigmoid(self.layer(x)).squeeze(-1)\n",
    "\n",
    "perceptron = Perceptron(10)\n",
    "perceptron = perceptron.to(device) # Move all the perceptron's tensors to the device\n",
    "print(\"Parameters\", list(perceptron.parameters()))"
   ]
  },
  {
   "cell_type": "markdown",
   "id": "63c8d0b4",
   "metadata": {
    "id": "DHV9D362PE0w",
    "papermill": {
     "duration": 0.117868,
     "end_time": "2024-04-20T03:17:17.324679",
     "exception": false,
     "start_time": "2024-04-20T03:17:17.206811",
     "status": "completed"
    },
    "tags": []
   },
   "source": [
    "## Datasets\n",
    "\n",
    "Pytorch has nice interfaces for using datasets. Suppose we create a logistic regression dataset as follows:"
   ]
  },
  {
   "cell_type": "code",
   "execution_count": 7,
   "id": "d13fb9be",
   "metadata": {
    "execution": {
     "iopub.execute_input": "2024-04-20T03:17:17.561731Z",
     "iopub.status.busy": "2024-04-20T03:17:17.560857Z",
     "iopub.status.idle": "2024-04-20T03:17:17.767372Z",
     "shell.execute_reply": "2024-04-20T03:17:17.766466Z"
    },
    "executionInfo": {
     "elapsed": 464,
     "status": "ok",
     "timestamp": 1713116645022,
     "user": {
      "displayName": "JAY CHEN",
      "userId": "06914961642607435287"
     },
     "user_tz": 420
    },
    "id": "G7VBsu23Pj9w",
    "outputId": "0b9a4e41-a811-4dea-d2a6-d293830cb54e",
    "papermill": {
     "duration": 0.326646,
     "end_time": "2024-04-20T03:17:17.769459",
     "exception": false,
     "start_time": "2024-04-20T03:17:17.442813",
     "status": "completed"
    },
    "tags": []
   },
   "outputs": [
    {
     "data": {
      "image/png": "[encoded data removed]",
      "text/plain": [
       "<Figure size 640x480 with 1 Axes>"
      ]
     },
     "metadata": {},
     "output_type": "display_data"
    }
   ],
   "source": [
    "c1_x1, c1_x2 = np.random.multivariate_normal([-2.5,3], [[1, 0.3],[0.3, 1]], 100).T\n",
    "c2_x1, c2_x2 = np.random.multivariate_normal([1,1], [[2, 1],[1, 2]], 100).T\n",
    "c1_X = np.vstack((c1_x1, c1_x2)).T\n",
    "c2_X = np.vstack((c2_x1, c2_x2)).T\n",
    "train_X = np.concatenate((c1_X, c2_X))\n",
    "train_y = np.concatenate((np.zeros(100), np.ones(100)))\n",
    "# Shuffle the data\n",
    "permutation = np.random.permutation(train_X.shape[0])\n",
    "train_X = train_X[permutation, :]\n",
    "train_y = train_y[permutation]\n",
    "# Plot the data\n",
    "plt.plot(c1_x1, c1_x2, 'x')\n",
    "plt.plot(c2_x1, c2_x2, 'o')\n",
    "plt.axis('equal')\n",
    "plt.show()"
   ]
  },
  {
   "cell_type": "markdown",
   "id": "e621a283",
   "metadata": {
    "id": "NQ0_Dch3P4Cd",
    "papermill": {
     "duration": 0.136322,
     "end_time": "2024-04-20T03:17:18.022530",
     "exception": false,
     "start_time": "2024-04-20T03:17:17.886208",
     "status": "completed"
    },
    "tags": []
   },
   "source": [
    "We can then create a pytorch dataset object as follows. Often times, the default pytorch datasets will create these objects for you. Then, we can apply dataloaders to iterate over the dataset in batches."
   ]
  },
  {
   "cell_type": "code",
   "execution_count": 8,
   "id": "c691892c",
   "metadata": {
    "execution": {
     "iopub.execute_input": "2024-04-20T03:17:18.260009Z",
     "iopub.status.busy": "2024-04-20T03:17:18.259309Z",
     "iopub.status.idle": "2024-04-20T03:17:18.271363Z",
     "shell.execute_reply": "2024-04-20T03:17:18.270217Z"
    },
    "executionInfo": {
     "elapsed": 10,
     "status": "ok",
     "timestamp": 1713116645023,
     "user": {
      "displayName": "JAY CHEN",
      "userId": "06914961642607435287"
     },
     "user_tz": 420
    },
    "id": "gFUJJdgdPsht",
    "outputId": "baf73188-bbef-414d-fd59-fe9c75c9d446",
    "papermill": {
     "duration": 0.134354,
     "end_time": "2024-04-20T03:17:18.273362",
     "exception": false,
     "start_time": "2024-04-20T03:17:18.139008",
     "status": "completed"
    },
    "tags": []
   },
   "outputs": [
    {
     "name": "stdout",
     "output_type": "stream",
     "text": [
      "Batch x: tensor([[-3.5113,  1.8590],\n",
      "        [-3.1178,  3.8620],\n",
      "        [ 1.6830,  2.1970],\n",
      "        [-2.8539,  3.4663],\n",
      "        [-0.1537,  0.5909],\n",
      "        [-0.1026, -0.1097],\n",
      "        [ 1.7937,  2.8408],\n",
      "        [-0.1430,  2.9392],\n",
      "        [-1.6728,  1.2604],\n",
      "        [ 2.5179,  2.3752]], dtype=torch.float64)\n",
      "Batch y: tensor([0., 0., 1., 0., 1., 1., 1., 1., 0., 1.], dtype=torch.float64)\n"
     ]
    }
   ],
   "source": [
    "dataset = torch.utils.data.TensorDataset(torch.from_numpy(train_X), torch.from_numpy(train_y))\n",
    "# We can create a dataloader that iterates over the dataset in batches.\n",
    "dataloader = torch.utils.data.DataLoader(dataset, batch_size=10, shuffle=True)\n",
    "for x, y in dataloader:\n",
    "    print(\"Batch x:\", x)\n",
    "    print(\"Batch y:\", y)\n",
    "    break\n",
    "\n",
    "# Clean up the dataloader as we make a new one later\n",
    "del dataloader"
   ]
  },
  {
   "cell_type": "markdown",
   "id": "004685a4",
   "metadata": {
    "id": "5Vaq5wwPQtNO",
    "papermill": {
     "duration": 0.11824,
     "end_time": "2024-04-20T03:17:18.511072",
     "exception": false,
     "start_time": "2024-04-20T03:17:18.392832",
     "status": "completed"
    },
    "tags": []
   },
   "source": [
    "## Training Loop Example\n",
    "Here is an example of training a full logistic regression model in pytorch. Note the extensive use of modules -- modules can be used for storing networks, computation steps etc."
   ]
  },
  {
   "cell_type": "code",
   "execution_count": 9,
   "id": "959f6945",
   "metadata": {
    "execution": {
     "iopub.execute_input": "2024-04-20T03:17:18.766137Z",
     "iopub.status.busy": "2024-04-20T03:17:18.765744Z",
     "iopub.status.idle": "2024-04-20T03:17:19.374046Z",
     "shell.execute_reply": "2024-04-20T03:17:19.373061Z"
    },
    "executionInfo": {
     "elapsed": 766,
     "status": "ok",
     "timestamp": 1713116645782,
     "user": {
      "displayName": "JAY CHEN",
      "userId": "06914961642607435287"
     },
     "user_tz": 420
    },
    "id": "1WwjYScvQms3",
    "outputId": "48be182f-eded-433a-f7f7-0759050c0982",
    "papermill": {
     "duration": 0.745366,
     "end_time": "2024-04-20T03:17:19.376147",
     "exception": false,
     "start_time": "2024-04-20T03:17:18.630781",
     "status": "completed"
    },
    "tags": []
   },
   "outputs": [
    {
     "name": "stdout",
     "output_type": "stream",
     "text": [
      "Using device cuda\n"
     ]
    },
    {
     "data": {
      "application/vnd.jupyter.widget-view+json": {
       "model_id": "a5cf31a67184462da80d716d74313f6d",
       "version_major": 2,
       "version_minor": 0
      },
      "text/plain": [
       "  0%|          | 0/20 [00:00<?, ?batch/s]"
      ]
     },
     "metadata": {},
     "output_type": "display_data"
    },
    {
     "name": "stdout",
     "output_type": "stream",
     "text": [
      "Finished Epoch 1 , training loss: 0.5665435269474983\n"
     ]
    },
    {
     "data": {
      "application/vnd.jupyter.widget-view+json": {
       "model_id": "a044dc1903394ffe9cd3967e87c028e8",
       "version_major": 2,
       "version_minor": 0
      },
      "text/plain": [
       "  0%|          | 0/20 [00:00<?, ?batch/s]"
      ]
     },
     "metadata": {},
     "output_type": "display_data"
    },
    {
     "name": "stdout",
     "output_type": "stream",
     "text": [
      "Finished Epoch 2 , training loss: 0.47766369581222534\n"
     ]
    },
    {
     "data": {
      "application/vnd.jupyter.widget-view+json": {
       "model_id": "39dd1bbf673c4e2e86e2f8da3598d30a",
       "version_major": 2,
       "version_minor": 0
      },
      "text/plain": [
       "  0%|          | 0/20 [00:00<?, ?batch/s]"
      ]
     },
     "metadata": {},
     "output_type": "display_data"
    },
    {
     "name": "stdout",
     "output_type": "stream",
     "text": [
      "Finished Epoch 3 , training loss: 0.4212615966796875\n"
     ]
    },
    {
     "data": {
      "application/vnd.jupyter.widget-view+json": {
       "model_id": "7579a40565df42d5ad7f582be5606b34",
       "version_major": 2,
       "version_minor": 0
      },
      "text/plain": [
       "  0%|          | 0/20 [00:00<?, ?batch/s]"
      ]
     },
     "metadata": {},
     "output_type": "display_data"
    },
    {
     "name": "stdout",
     "output_type": "stream",
     "text": [
      "Finished Epoch 4 , training loss: 0.38244073167443277\n"
     ]
    },
    {
     "data": {
      "application/vnd.jupyter.widget-view+json": {
       "model_id": "b260e4ef00a44111a9fa2419d8d65ff9",
       "version_major": 2,
       "version_minor": 0
      },
      "text/plain": [
       "  0%|          | 0/20 [00:00<?, ?batch/s]"
      ]
     },
     "metadata": {},
     "output_type": "display_data"
    },
    {
     "name": "stdout",
     "output_type": "stream",
     "text": [
      "Finished Epoch 5 , training loss: 0.3533939987421036\n"
     ]
    },
    {
     "data": {
      "application/vnd.jupyter.widget-view+json": {
       "model_id": "c43a950421034417b72c0a1f0cf4caa2",
       "version_major": 2,
       "version_minor": 0
      },
      "text/plain": [
       "  0%|          | 0/20 [00:00<?, ?batch/s]"
      ]
     },
     "metadata": {},
     "output_type": "display_data"
    },
    {
     "name": "stdout",
     "output_type": "stream",
     "text": [
      "Finished Epoch 6 , training loss: 0.33105754628777506\n"
     ]
    },
    {
     "data": {
      "application/vnd.jupyter.widget-view+json": {
       "model_id": "717e77b6a36a43a6a30741784e48ad9d",
       "version_major": 2,
       "version_minor": 0
      },
      "text/plain": [
       "  0%|          | 0/20 [00:00<?, ?batch/s]"
      ]
     },
     "metadata": {},
     "output_type": "display_data"
    },
    {
     "name": "stdout",
     "output_type": "stream",
     "text": [
      "Finished Epoch 7 , training loss: 0.3132927596569061\n"
     ]
    },
    {
     "data": {
      "application/vnd.jupyter.widget-view+json": {
       "model_id": "c6efbe7786484006a7a342e2cce07acc",
       "version_major": 2,
       "version_minor": 0
      },
      "text/plain": [
       "  0%|          | 0/20 [00:00<?, ?batch/s]"
      ]
     },
     "metadata": {},
     "output_type": "display_data"
    },
    {
     "name": "stdout",
     "output_type": "stream",
     "text": [
      "Finished Epoch 8 , training loss: 0.2985064037144184\n"
     ]
    },
    {
     "data": {
      "application/vnd.jupyter.widget-view+json": {
       "model_id": "9b9c89bb241a49d2b892693b99ef5a29",
       "version_major": 2,
       "version_minor": 0
      },
      "text/plain": [
       "  0%|          | 0/20 [00:00<?, ?batch/s]"
      ]
     },
     "metadata": {},
     "output_type": "display_data"
    },
    {
     "name": "stdout",
     "output_type": "stream",
     "text": [
      "Finished Epoch 9 , training loss: 0.28632054179906846\n"
     ]
    },
    {
     "data": {
      "application/vnd.jupyter.widget-view+json": {
       "model_id": "f0d87933eb94475ba1e157b316aac5ab",
       "version_major": 2,
       "version_minor": 0
      },
      "text/plain": [
       "  0%|          | 0/20 [00:00<?, ?batch/s]"
      ]
     },
     "metadata": {},
     "output_type": "display_data"
    },
    {
     "name": "stdout",
     "output_type": "stream",
     "text": [
      "Finished Epoch 10 , training loss: 0.275938618183136\n",
      "Final Accuracy: 0.955\n"
     ]
    }
   ],
   "source": [
    "device = torch.device(\"cuda\" if torch.cuda.is_available() else \"cpu\")\n",
    "print(\"Using device\", device)\n",
    "\n",
    "epochs = 10\n",
    "batch_size = 10\n",
    "learning_rate = 0.01\n",
    "\n",
    "num_features = dataset[0][0].shape[0]\n",
    "model = Perceptron(num_features).to(device)\n",
    "optimizer = torch.optim.SGD(model.parameters(), lr=learning_rate)\n",
    "criterion = torch.nn.BCELoss()\n",
    "dataloader = torch.utils.data.DataLoader(dataset, batch_size=batch_size, shuffle=True)\n",
    "\n",
    "model.train() # Put model in training mode\n",
    "for epoch in range(epochs):\n",
    "    training_losses = []\n",
    "    for x, y in tqdm.notebook.tqdm(dataloader, unit=\"batch\"):\n",
    "        x, y = x.float().to(device), y.float().to(device)\n",
    "        optimizer.zero_grad() # Remove the gradients from the previous step\n",
    "        pred = model(x)\n",
    "        loss = criterion(pred, y)\n",
    "        loss.backward()\n",
    "        optimizer.step()\n",
    "        training_losses.append(loss.item())\n",
    "    print(\"Finished Epoch\", epoch + 1, \", training loss:\", np.mean(training_losses))\n",
    "\n",
    "# We can run predictions on the data to determine the final accuracy.\n",
    "with torch.no_grad():\n",
    "    model.eval() # Put model in eval mode\n",
    "    num_correct = 0\n",
    "    for x, y in dataloader:\n",
    "        x, y = x.float().to(device), y.float().to(device)\n",
    "        pred = model(x)\n",
    "        num_correct += torch.sum(torch.round(pred) == y).item()\n",
    "    print(\"Final Accuracy:\", num_correct / len(dataset))\n",
    "    model.train() # Put model back in train mode"
   ]
  },
  {
   "cell_type": "markdown",
   "id": "c3ebf3da",
   "metadata": {
    "id": "jOxM8vT4SsD9",
    "papermill": {
     "duration": 0.125973,
     "end_time": "2024-04-20T03:17:19.623226",
     "exception": false,
     "start_time": "2024-04-20T03:17:19.497253",
     "status": "completed"
    },
    "tags": []
   },
   "source": [
    "# Task 1: MLP For FashionMNIST\n",
    "Earlier in this course you trained SVMs and GDA models on MNIST. Now you will train a multi-layer perceptron model on an MNIST-like dataset. Your deliverables are as follows:\n",
    "\n",
    "1. Code for training an MLP on MNIST (can be in code appendix, tagged in your submission).\n",
    "2. A plot of the training loss and validation loss for each epoch of training after trainnig for at least 8 epochs.\n",
    "3. A plot of the training and validation accuracy, showing that it is at least 82% for validation by the end of training.\n",
    "\n",
    "Below we will create the training and validation datasets for you, and provide a very basic skeleton of the code. Please leverage the example training loop from above.\n",
    "\n",
    "Some pytorch components you should definitely use:\n",
    "1. `nn.Linear`\n",
    "2. Some activation function like `nn.ReLU`\n",
    "3. `nn.CrossEntropyLoss`: if you choose to use `nn.CrossEntropyLoss` or `F.cross_entropy`, DO NOT add an explicit softmax layer in your neural network. PyTorch devs found it more numerically stable to combine softmax and cross entropy loss into a single module and if you explicitly attach a softmax layer at the end of your model, you would unintentionally be applying it twice, which can degrade performance.\n",
    "\n",
    "Here are challenges you will need to overcome:\n",
    "1. The data is default configured in image form i.e. (1 x 28 x 28), versus one feature vector. You will need to reshape it somewhere to feed it in as vector to the MLP. There are many ways of doing this.\n",
    "2. You need to write code for plotting.\n",
    "3. You need to find appropriate hyper-parameters to achieve good accuracy.\n",
    "\n",
    "Your underlying model must be fully connected or dense, and may not have convolutions etc., but you can use anything in torch.optim or any layers in torch.nn besides nn.Linear that do not have weights."
   ]
  },
  {
   "cell_type": "code",
   "execution_count": 10,
   "id": "dcccff0f",
   "metadata": {
    "execution": {
     "iopub.execute_input": "2024-04-20T03:17:19.866083Z",
     "iopub.status.busy": "2024-04-20T03:17:19.865183Z",
     "iopub.status.idle": "2024-04-20T03:17:21.187714Z",
     "shell.execute_reply": "2024-04-20T03:17:21.186833Z"
    },
    "executionInfo": {
     "elapsed": 7867,
     "status": "ok",
     "timestamp": 1713116653645,
     "user": {
      "displayName": "JAY CHEN",
      "userId": "06914961642607435287"
     },
     "user_tz": 420
    },
    "id": "8sSW4B4yR-G2",
    "outputId": "6acdd432-eda0-4aa6-b955-0d412952491f",
    "papermill": {
     "duration": 1.446748,
     "end_time": "2024-04-20T03:17:21.189950",
     "exception": false,
     "start_time": "2024-04-20T03:17:19.743202",
     "status": "completed"
    },
    "tags": []
   },
   "outputs": [
    {
     "name": "stdout",
     "output_type": "stream",
     "text": [
      "Downloading http://fashion-mnist.s3-website.eu-central-1.amazonaws.com/train-images-idx3-ubyte.gz\n",
      "Downloading http://fashion-mnist.s3-website.eu-central-1.amazonaws.com/train-images-idx3-ubyte.gz to data/FashionMNIST/raw/train-images-idx3-ubyte.gz\n"
     ]
    },
    {
     "name": "stderr",
     "output_type": "stream",
     "text": [
      "100%|██████████| 26421880/26421880 [00:00<00:00, 114689174.70it/s]\n"
     ]
    },
    {
     "name": "stdout",
     "output_type": "stream",
     "text": [
      "Extracting data/FashionMNIST/raw/train-images-idx3-ubyte.gz to data/FashionMNIST/raw\n",
      "\n",
      "Downloading http://fashion-mnist.s3-website.eu-central-1.amazonaws.com/train-labels-idx1-ubyte.gz\n",
      "Downloading http://fashion-mnist.s3-website.eu-central-1.amazonaws.com/train-labels-idx1-ubyte.gz to data/FashionMNIST/raw/train-labels-idx1-ubyte.gz\n"
     ]
    },
    {
     "name": "stderr",
     "output_type": "stream",
     "text": [
      "100%|██████████| 29515/29515 [00:00<00:00, 4690621.50it/s]"
     ]
    },
    {
     "name": "stdout",
     "output_type": "stream",
     "text": [
      "Extracting data/FashionMNIST/raw/train-labels-idx1-ubyte.gz to data/FashionMNIST/raw\n",
      "\n",
      "Downloading http://fashion-mnist.s3-website.eu-central-1.amazonaws.com/t10k-images-idx3-ubyte.gz\n",
      "Downloading http://fashion-mnist.s3-website.eu-central-1.amazonaws.com/t10k-images-idx3-ubyte.gz to data/FashionMNIST/raw/t10k-images-idx3-ubyte.gz\n"
     ]
    },
    {
     "name": "stderr",
     "output_type": "stream",
     "text": [
      "\n",
      "100%|██████████| 4422102/4422102 [00:00<00:00, 63390580.45it/s]\n"
     ]
    },
    {
     "name": "stdout",
     "output_type": "stream",
     "text": [
      "Extracting data/FashionMNIST/raw/t10k-images-idx3-ubyte.gz to data/FashionMNIST/raw\n",
      "\n",
      "Downloading http://fashion-mnist.s3-website.eu-central-1.amazonaws.com/t10k-labels-idx1-ubyte.gz\n",
      "Downloading http://fashion-mnist.s3-website.eu-central-1.amazonaws.com/t10k-labels-idx1-ubyte.gz to data/FashionMNIST/raw/t10k-labels-idx1-ubyte.gz\n"
     ]
    },
    {
     "name": "stderr",
     "output_type": "stream",
     "text": [
      "100%|██████████| 5148/5148 [00:00<00:00, 10218777.56it/s]\n"
     ]
    },
    {
     "name": "stdout",
     "output_type": "stream",
     "text": [
      "Extracting data/FashionMNIST/raw/t10k-labels-idx1-ubyte.gz to data/FashionMNIST/raw\n",
      "\n"
     ]
    }
   ],
   "source": [
    "# Creating the datasets\n",
    "transform = torchvision.transforms.ToTensor() # feel free to modify this as you see fit.\n",
    "\n",
    "training_data = torchvision.datasets.FashionMNIST(\n",
    "    root=\"data\",\n",
    "    train=True,\n",
    "    download=True,\n",
    "    transform=transform,\n",
    ")\n",
    "\n",
    "validation_data = torchvision.datasets.FashionMNIST(\n",
    "    root=\"data\",\n",
    "    train=False,\n",
    "    download=True,\n",
    "    transform=transform,\n",
    ")"
   ]
  },
  {
   "cell_type": "markdown",
   "id": "96646509",
   "metadata": {
    "id": "JTXLVZJT1xda",
    "papermill": {
     "duration": 0.122068,
     "end_time": "2024-04-20T03:17:21.436408",
     "exception": false,
     "start_time": "2024-04-20T03:17:21.314340",
     "status": "completed"
    },
    "tags": []
   },
   "source": [
    "Before training a neural network, let's visualize our data first! Running the cell below will display the first 9 images in a 3 by 3 grid."
   ]
  },
  {
   "cell_type": "code",
   "execution_count": 11,
   "id": "cb96ccb9",
   "metadata": {
    "execution": {
     "iopub.execute_input": "2024-04-20T03:17:21.691098Z",
     "iopub.status.busy": "2024-04-20T03:17:21.690703Z",
     "iopub.status.idle": "2024-04-20T03:17:21.886202Z",
     "shell.execute_reply": "2024-04-20T03:17:21.885161Z"
    },
    "executionInfo": {
     "elapsed": 408,
     "status": "ok",
     "timestamp": 1713116654047,
     "user": {
      "displayName": "JAY CHEN",
      "userId": "06914961642607435287"
     },
     "user_tz": 420
    },
    "id": "lu1VXUH51t8y",
    "outputId": "f562dc3b-568f-4a7e-8fa3-9aa58e856071",
    "papermill": {
     "duration": 0.323822,
     "end_time": "2024-04-20T03:17:21.888363",
     "exception": false,
     "start_time": "2024-04-20T03:17:21.564541",
     "status": "completed"
    },
    "tags": []
   },
   "outputs": [
    {
     "data": {
      "text/plain": [
       "<matplotlib.image.AxesImage at 0x793738402470>"
      ]
     },
     "execution_count": 11,
     "metadata": {},
     "output_type": "execute_result"
    },
    {
     "data": {
      "image/png": "[encoded data removed]",
      "text/plain": [
       "<Figure size 640x480 with 1 Axes>"
      ]
     },
     "metadata": {},
     "output_type": "display_data"
    }
   ],
   "source": [
    "images = [training_data[i][0] for i in range(9)]\n",
    "plt.imshow(torchvision.utils.make_grid(torch.stack(images), nrow=3, padding=5).numpy().transpose((1, 2, 0)))"
   ]
  },
  {
   "cell_type": "code",
   "execution_count": 12,
   "id": "32437775",
   "metadata": {
    "execution": {
     "iopub.execute_input": "2024-04-20T03:17:22.213759Z",
     "iopub.status.busy": "2024-04-20T03:17:22.213357Z",
     "iopub.status.idle": "2024-04-20T03:19:58.189774Z",
     "shell.execute_reply": "2024-04-20T03:19:58.188800Z"
    },
    "executionInfo": {
     "elapsed": 335564,
     "status": "ok",
     "timestamp": 1713118001522,
     "user": {
      "displayName": "JAY CHEN",
      "userId": "06914961642607435287"
     },
     "user_tz": 420
    },
    "id": "h4PPZnVCXH8_",
    "outputId": "c6fa8333-fe78-452f-fef0-0e109317f12f",
    "papermill": {
     "duration": 156.238086,
     "end_time": "2024-04-20T03:19:58.312462",
     "exception": false,
     "start_time": "2024-04-20T03:17:22.074376",
     "status": "completed"
    },
    "tags": []
   },
   "outputs": [
    {
     "name": "stdout",
     "output_type": "stream",
     "text": [
      "Using device cuda\n",
      "Finished Epoch 1 , Average training loss: 0.665816730528449\n",
      "Finished Epoch 2 , Average training loss: 0.4625976474747683\n",
      "Finished Epoch 3 , Average training loss: 0.4204086249045407\n",
      "Finished Epoch 4 , Average training loss: 0.3933246583839258\n",
      "Finished Epoch 5 , Average training loss: 0.372997451858595\n",
      "Finished Epoch 6 , Average training loss: 0.3571080660520432\n",
      "Finished Epoch 7 , Average training loss: 0.34289144188394616\n",
      "Finished Epoch 8 , Average training loss: 0.3317793440456347\n",
      "Finished Epoch 9 , Average training loss: 0.32224096416152315\n",
      "Finished Epoch 10 , Average training loss: 0.31336373695215053\n"
     ]
    }
   ],
   "source": [
    "### YOUR CODE HERE ###\n",
    "import numpy as np\n",
    "import torch\n",
    "import torchvision\n",
    "from torch import nn\n",
    "import matplotlib\n",
    "from matplotlib import pyplot as plt\n",
    "import tqdm\n",
    "\n",
    "device = torch.device(\"cuda\" if torch.cuda.is_available() else \"cpu\")\n",
    "print(\"Using device\", device)\n",
    "\n",
    "# Hyperparameters\n",
    "epochs = 10\n",
    "batch_size = 10\n",
    "learning_rate = 0.01\n",
    "\n",
    "in_dim = 784\n",
    "\n",
    "# Model definition\n",
    "class MLP(nn.Module):\n",
    "    def __init__(self, in_dim):\n",
    "        super().__init__()\n",
    "        self.flatten = nn.Flatten()\n",
    "        self.layer = nn.Linear(in_dim, 128)\n",
    "        self.relu = nn.ReLU()\n",
    "        self.output = nn.Linear(128, 10)\n",
    "\n",
    "    def forward(self, x):\n",
    "        x = self.flatten(x)\n",
    "        x = self.layer(x)\n",
    "        x = self.relu(x)\n",
    "        x = self.output(x)\n",
    "        return x\n",
    "\n",
    "# Calling Model\n",
    "model = MLP(in_dim).to(device)\n",
    "optimizer = torch.optim.SGD(model.parameters(), lr=learning_rate)\n",
    "criterion = torch.nn.CrossEntropyLoss()\n",
    "train_dataloader = torch.utils.data.DataLoader(training_data, batch_size=batch_size, shuffle=True)\n",
    "valid_dataloader = torch.utils.data.DataLoader(validation_data, batch_size=batch_size)\n",
    "\n",
    "# Creating lists\n",
    "train_losses, valid_losses = [], []\n",
    "train_accuracy, valid_accuracy = [], []\n",
    "\n",
    "for epoch in range(epochs):\n",
    "    model.train()\n",
    "    temp_train_losses, temp_valid_losses = [], []\n",
    "    total_correct, total_samples = 0, 0\n",
    "    \n",
    "    # Training losses\n",
    "    for x, y in train_dataloader:\n",
    "        x, y = x.to(device), y.to(device, dtype=torch.long)\n",
    "        optimizer.zero_grad() # Remove the gradients from the previous step\n",
    "        pred = model(x)\n",
    "        loss = criterion(pred, y)\n",
    "        loss.backward()\n",
    "        optimizer.step()\n",
    "        temp_train_losses.append(loss.item())\n",
    "        # try getting accuracy\n",
    "        _, predicted = torch.max(pred, 1)\n",
    "        total_correct += (predicted == y).sum().item()\n",
    "        total_samples += y.size(0)\n",
    "        \n",
    "    train_losses.append(np.mean(temp_train_losses))\n",
    "    train_accuracy.append(total_correct / total_samples)\n",
    "    total_correct, total_samples = 0, 0   # Reinitialize for validation\n",
    "\n",
    "    model.eval()\n",
    "    with torch.no_grad():\n",
    "        for x, y in valid_dataloader:\n",
    "            x, y = x.to(device), y.to(device, dtype=torch.long)\n",
    "            pred = model(x)\n",
    "            loss = criterion(pred, y)\n",
    "            temp_valid_losses.append(loss.item())\n",
    "            # Getting Accuracy\n",
    "            _, predicted = torch.max(pred, 1)\n",
    "            total_correct += (predicted == y).sum().item()\n",
    "            total_samples += y.size(0)\n",
    "            \n",
    "        valid_losses.append(np.mean(temp_valid_losses))\n",
    "        valid_accuracy.append(total_correct / total_samples)\n",
    "        \n",
    "    print(\"Finished Epoch\", epoch + 1, \", Average training loss:\", np.mean(temp_train_losses))"
   ]
  },
  {
   "cell_type": "code",
   "execution_count": 13,
   "id": "5b2569de",
   "metadata": {
    "execution": {
     "iopub.execute_input": "2024-04-20T03:19:58.560028Z",
     "iopub.status.busy": "2024-04-20T03:19:58.559131Z",
     "iopub.status.idle": "2024-04-20T03:19:59.067263Z",
     "shell.execute_reply": "2024-04-20T03:19:59.066357Z"
    },
    "executionInfo": {
     "elapsed": 795,
     "status": "ok",
     "timestamp": 1713119022129,
     "user": {
      "displayName": "JAY CHEN",
      "userId": "06914961642607435287"
     },
     "user_tz": 420
    },
    "id": "xTWr2waGi3bs",
    "outputId": "e5c68d52-bbdb-4aeb-9412-deb5e988aa7b",
    "papermill": {
     "duration": 0.634836,
     "end_time": "2024-04-20T03:19:59.070268",
     "exception": false,
     "start_time": "2024-04-20T03:19:58.435432",
     "status": "completed"
    },
    "tags": []
   },
   "outputs": [
    {
     "data": {
      "image/png": "[encoded data removed]",
      "text/plain": [
       "<Figure size 640x480 with 1 Axes>"
      ]
     },
     "metadata": {},
     "output_type": "display_data"
    },
    {
     "data": {
      "image/png": "[encoded data removed]",
      "text/plain": [
       "<Figure size 640x480 with 1 Axes>"
      ]
     },
     "metadata": {},
     "output_type": "display_data"
    },
    {
     "name": "stdout",
     "output_type": "stream",
     "text": [
      "Training Accuracy: 0.8595033333333333, Validation Accuracy: 0.85075\n"
     ]
    }
   ],
   "source": [
    "# Training loss and validation loss for each epoch after training for at least 8 epochs\n",
    "plt.plot(range(1, epochs+1), train_losses, label='Training Loss')\n",
    "plt.plot(range(1, epochs+1), valid_losses, label='Validation Loss')\n",
    "plt.xlabel('Epoch')\n",
    "plt.ylabel('Average Loss')\n",
    "plt.title('Training Loss and Validation Loss Per Epoch')\n",
    "plt.legend()\n",
    "plt.show()\n",
    "\n",
    "# A plot of the training and validation accuracy, at least 82% for validation by the end of training.\n",
    "plt.plot(range(1, epochs+1), train_accuracy, label='Training Accuracy')\n",
    "plt.plot(range(1, epochs+1), valid_accuracy, label='Validation Accuracy')\n",
    "plt.xlabel('Epoch')\n",
    "plt.ylabel('Accuracy')\n",
    "plt.title('Training And Validation Accuracy Per Epoch')\n",
    "plt.legend()\n",
    "plt.show()\n",
    "\n",
    "print(f\"Training Accuracy: {np.mean(train_accuracy)}, Validation Accuracy: {np.mean(valid_accuracy)}\")"
   ]
  },
  {
   "cell_type": "code",
   "execution_count": 14,
   "id": "99003cd6",
   "metadata": {
    "execution": {
     "iopub.execute_input": "2024-04-20T03:19:59.320374Z",
     "iopub.status.busy": "2024-04-20T03:19:59.319606Z",
     "iopub.status.idle": "2024-04-20T03:19:59.441069Z",
     "shell.execute_reply": "2024-04-20T03:19:59.440126Z"
    },
    "executionInfo": {
     "elapsed": 774,
     "status": "ok",
     "timestamp": 1713120311549,
     "user": {
      "displayName": "JAY CHEN",
      "userId": "06914961642607435287"
     },
     "user_tz": 420
    },
    "id": "lGNDpHSnzhkn",
    "outputId": "55df3dd0-c107-4dde-ee56-67a9f08643fc",
    "papermill": {
     "duration": 0.249422,
     "end_time": "2024-04-20T03:19:59.443834",
     "exception": false,
     "start_time": "2024-04-20T03:19:59.194412",
     "status": "completed"
    },
    "tags": []
   },
   "outputs": [
    {
     "data": {
      "image/png": "[encoded data removed]",
      "text/plain": [
       "<Figure size 640x480 with 1 Axes>"
      ]
     },
     "metadata": {},
     "output_type": "display_data"
    }
   ],
   "source": [
    "# Visualize data\n",
    "images = [training_data[i][0] for i in range(200)]\n",
    "plt.imshow(torchvision.utils.make_grid(torch.stack(images), nrow=10, padding=5).numpy().transpose((1, 2, 0)))\n",
    "# plt.figure(figsize=(15, 15))\n",
    "plt.axis('off')\n",
    "plt.show()"
   ]
  },
  {
   "cell_type": "markdown",
   "id": "311bdd0c",
   "metadata": {
    "id": "w2qHmtqRUYHz",
    "papermill": {
     "duration": 0.126612,
     "end_time": "2024-04-20T03:19:59.698061",
     "exception": false,
     "start_time": "2024-04-20T03:19:59.571449",
     "status": "completed"
    },
    "tags": []
   },
   "source": [
    "# Task 2: CNNs for CIFAR-10\n",
    "\n",
    "In this section, you will create a CNN for the CIFAR dataset, and submit your predictions to Kaggle. It is recommended that you use GPU acceleration for this part.\n",
    "\n",
    "Here are some of the components you should consider using:\n",
    "1. `nn.Conv2d`\n",
    "2. `nn.ReLU`\n",
    "3. `nn.Linear`\n",
    "3. `nn.CrossEntropyLoss`: if you choose to use `nn.CrossEntropyLoss` or `F.cross_entropy`, DO NOT add an explicit softmax layer in your neural network. PyTorch devs found it more numerically stable to combine softmax and cross entropy loss into a single module and if you explicitly attach a softmax layer at the end of your model, you would unintentionally be applying it twice, which can degrade performance.\n",
    "5. `nn.MaxPooling2d` (though many implementations without it exist; for example, you can also do strided convolutions instead of a pooling layer!)\n",
    "\n",
    "We encourage you to explore different ways of improving your model to get higher accuracy. Here are some suggestions for things to look into:\n",
    "1. CNN architectures: AlexNet, VGG, ResNets, etc.\n",
    "2. Different optimizers and their parameters (see torch.optim)\n",
    "3. Image preprocessing / data augmentation (see torchvision.transforms)\n",
    "4. Regularization or dropout (see torch.optim and torch.nn respectively)\n",
    "5. Learning rate scheduling: https://pytorch.org/docs/stable/optim.html#how-to-adjust-learning-rate\n",
    "6. Weight initialization: https://pytorch.org/docs/stable/nn.init.html\n",
    "\n",
    "Though we encourage you to explore, there are some rules:\n",
    "1. You are not allowed to install or use packages not included by default in the Colab Environment.\n",
    "2. You are not allowed to use any pre-defined architectures or feature extractors in your network.\n",
    "3. You are not allowed to use **any** pretrained weights, ie no transfer learning.\n",
    "4. You cannot train on the test data.\n",
    "\n",
    "Otherwise everything is fair game.\n",
    "\n",
    "Your deliverables are as follows:\n",
    "1. Submit to Kaggle and include your test accuracy in your report.\n",
    "2. Provide at least (1) training curve for your model, depicting loss per epoch or step after training for at least 8 epochs.\n",
    "3. Explain the components of your final model, and how you think your design choices contributed to it's performance.\n",
    "\n",
    "After you write your code, we have included skeleton code that should be used to submit predictions to Kaggle. **You must follow the instructions below under the submission header**. Note that if you apply any processing or transformations to the data, you will need to do the same to the test data otherwise you will likely achieve very low accuracy.\n",
    "\n",
    "It is expected that this task will take a while to train. Our simple solution achieves a training accuracy of 90.2% and a test accuracy of 74.8% after 10 epochs (be careful of overfitting!). This easily beats the best SVM based CIFAR10 model submitted to the HW 1 Kaggle! It is possible to achieve 95% or higher test accuracy on CIFAR 10 with good model design and tuning."
   ]
  },
  {
   "cell_type": "code",
   "execution_count": 15,
   "id": "651a7bcd",
   "metadata": {
    "execution": {
     "iopub.execute_input": "2024-04-20T03:19:59.971741Z",
     "iopub.status.busy": "2024-04-20T03:19:59.971370Z",
     "iopub.status.idle": "2024-04-20T03:20:11.792186Z",
     "shell.execute_reply": "2024-04-20T03:20:11.791264Z"
    },
    "executionInfo": {
     "elapsed": 7302,
     "status": "ok",
     "timestamp": 1713162791389,
     "user": {
      "displayName": "JAY CHEN",
      "userId": "06914961642607435287"
     },
     "user_tz": 420
    },
    "id": "Zmwd_kzNT-Cq",
    "outputId": "3231444a-6c56-4585-bd97-5852a70b6850",
    "papermill": {
     "duration": 11.955626,
     "end_time": "2024-04-20T03:20:11.794575",
     "exception": false,
     "start_time": "2024-04-20T03:19:59.838949",
     "status": "completed"
    },
    "tags": []
   },
   "outputs": [
    {
     "name": "stdout",
     "output_type": "stream",
     "text": [
      "Downloading https://www.cs.toronto.edu/~kriz/cifar-10-python.tar.gz to data/cifar-10-python.tar.gz\n"
     ]
    },
    {
     "name": "stderr",
     "output_type": "stream",
     "text": [
      "100%|██████████| 170498071/170498071 [00:08<00:00, 19857940.60it/s]\n"
     ]
    },
    {
     "name": "stdout",
     "output_type": "stream",
     "text": [
      "Extracting data/cifar-10-python.tar.gz to data\n"
     ]
    }
   ],
   "source": [
    "# Creating the datasets, feel free to change this as long as you do the same to the test data.\n",
    "# You can also modify this to split the data into training and validation.\n",
    "# See https://pytorch.org/docs/stable/data.html#torch.utils.data.random_split\n",
    "train_transforms = transforms.Compose([\n",
    "    transforms.RandomHorizontalFlip(),  # Randomly flip the images on the horizontal axis\n",
    "    transforms.RandomRotation(10),  # Randomly rotate the images by a few degrees\n",
    "    transforms.RandomCrop(32, padding=4),  # Apply random crops with padding if necessary\n",
    "    transforms.ToTensor(),  # Convert images to PyTorch tensors\n",
    "    transforms.Normalize((0.4914, 0.4822, 0.4465), (0.2023, 0.1994, 0.2010)),  # Normalization\n",
    "])\n",
    "\n",
    "training_data = torchvision.datasets.CIFAR10(\n",
    "    root=\"data\",\n",
    "    train=True,\n",
    "    download=True,\n",
    "    transform=train_transforms, # Change back to transform\n",
    ")\n",
    "# If you make a train-test partition it is up to you.\n",
    "# Splitting data into training and validation\n",
    "training_size, validation_size = len(training_data) - int(0.2 * len(training_data)), int(0.2 * len(training_data))\n",
    "train_dataset, valid_dataset = random_split(training_data, [training_size, validation_size])\n",
    "train_loader = DataLoader(train_dataset, batch_size=10, shuffle=True)\n",
    "valid_loader = DataLoader(valid_dataset, batch_size=10, shuffle=False)"
   ]
  },
  {
   "cell_type": "markdown",
   "id": "6013bfc0",
   "metadata": {
    "id": "MzFPSQil19VA",
    "papermill": {
     "duration": 0.140079,
     "end_time": "2024-04-20T03:20:23.738161",
     "exception": false,
     "start_time": "2024-04-20T03:20:23.598082",
     "status": "completed"
    },
    "tags": []
   },
   "source": [
    "Again, let's first visualize our data."
   ]
  },
  {
   "cell_type": "code",
   "execution_count": 17,
   "id": "51650a78",
   "metadata": {
    "execution": {
     "iopub.execute_input": "2024-04-20T03:20:24.019221Z",
     "iopub.status.busy": "2024-04-20T03:20:24.018819Z",
     "iopub.status.idle": "2024-04-20T03:20:24.287434Z",
     "shell.execute_reply": "2024-04-20T03:20:24.286495Z"
    },
    "executionInfo": {
     "elapsed": 818,
     "status": "ok",
     "timestamp": 1713120698890,
     "user": {
      "displayName": "JAY CHEN",
      "userId": "06914961642607435287"
     },
     "user_tz": 420
    },
    "id": "0dJcNDsr1-D2",
    "outputId": "a9da1bd3-e038-4132-a249-163774c7ad04",
    "papermill": {
     "duration": 0.412674,
     "end_time": "2024-04-20T03:20:24.289567",
     "exception": false,
     "start_time": "2024-04-20T03:20:23.876893",
     "status": "completed"
    },
    "tags": []
   },
   "outputs": [
    {
     "data": {
      "image/png": "[encoded data removed]",
      "text/plain": [
       "<Figure size 640x480 with 1 Axes>"
      ]
     },
     "metadata": {},
     "output_type": "display_data"
    }
   ],
   "source": [
    "images = [training_data[i][0] for i in range(9)]\n",
    "plt.imshow(torchvision.utils.make_grid(torch.stack(images), nrow=3, padding=5).numpy().transpose((1, 2, 0)));"
   ]
  },
  {
   "cell_type": "code",
   "execution_count": 18,
   "id": "0d033a16",
   "metadata": {
    "execution": {
     "iopub.execute_input": "2024-04-20T03:20:24.572325Z",
     "iopub.status.busy": "2024-04-20T03:20:24.571967Z",
     "iopub.status.idle": "2024-04-20T04:11:25.424844Z",
     "shell.execute_reply": "2024-04-20T04:11:25.423829Z"
    },
    "executionInfo": {
     "elapsed": 1429379,
     "status": "ok",
     "timestamp": 1713166035385,
     "user": {
      "displayName": "JAY CHEN",
      "userId": "06914961642607435287"
     },
     "user_tz": 420
    },
    "id": "I4DyQNjKjlol",
    "outputId": "1360e579-2d01-4f06-fb08-af2b6d747c2b",
    "papermill": {
     "duration": 3061.144736,
     "end_time": "2024-04-20T04:11:25.573074",
     "exception": false,
     "start_time": "2024-04-20T03:20:24.428338",
     "status": "completed"
    },
    "tags": []
   },
   "outputs": [
    {
     "name": "stdout",
     "output_type": "stream",
     "text": [
      "Using device cuda\n",
      "Finished Epoch 1, Average training loss: 2.1167493799626826, Average valid loss: 1.8021416838169098\n",
      "Finished Epoch 2, Average training loss: 1.6904813578724862, Average valid loss: 1.488403814136982\n",
      "Finished Epoch 3, Average training loss: 1.4652771964520217, Average valid loss: 1.3587973297834397\n",
      "Finished Epoch 4, Average training loss: 1.3239443057104945, Average valid loss: 1.2554715547561646\n",
      "Finished Epoch 5, Average training loss: 1.2117020219266414, Average valid loss: 1.146851135134697\n",
      "Finished Epoch 6, Average training loss: 1.1209880025684833, Average valid loss: 1.0748824205547571\n",
      "Finished Epoch 7, Average training loss: 1.0430113842226565, Average valid loss: 1.03034707942605\n",
      "Finished Epoch 8, Average training loss: 0.9759837185330689, Average valid loss: 1.0196943799704312\n",
      "Finished Epoch 9, Average training loss: 0.9192355954907835, Average valid loss: 0.874029339119792\n",
      "Finished Epoch 10, Average training loss: 0.8711309455260634, Average valid loss: 0.9034474988877773\n",
      "Finished Epoch 11, Average training loss: 0.831389375815168, Average valid loss: 0.8477350120097399\n",
      "Finished Epoch 12, Average training loss: 0.7980792221669107, Average valid loss: 0.8401679526045919\n",
      "Finished Epoch 13, Average training loss: 0.7624690422853455, Average valid loss: 0.7939331012219191\n",
      "Finished Epoch 14, Average training loss: 0.7306933017680421, Average valid loss: 0.7750410249456763\n",
      "Finished Epoch 15, Average training loss: 0.7065341688450426, Average valid loss: 0.7718873246610165\n",
      "Finished Epoch 16, Average training loss: 0.6812841817457229, Average valid loss: 0.7371248443387449\n",
      "Finished Epoch 17, Average training loss: 0.6602414195947349, Average valid loss: 0.7392995529919862\n",
      "Finished Epoch 18, Average training loss: 0.6354171265745535, Average valid loss: 0.7512505215071141\n",
      "Finished Epoch 19, Average training loss: 0.623220595546998, Average valid loss: 0.7518345831483603\n",
      "Finished Epoch 20, Average training loss: 0.603641339135822, Average valid loss: 0.7414531036596745\n",
      "Finished Epoch 21, Average training loss: 0.5906179866022431, Average valid loss: 0.7361609069779516\n",
      "Finished Epoch 22, Average training loss: 0.5713978059522342, Average valid loss: 0.6873922514393925\n",
      "Finished Epoch 23, Average training loss: 0.5580771409124136, Average valid loss: 0.7040844932049513\n",
      "Finished Epoch 24, Average training loss: 0.5365835989987244, Average valid loss: 0.7490902888663113\n",
      "Finished Epoch 25, Average training loss: 0.5266263516750187, Average valid loss: 0.6850639266925864\n",
      "Finished Epoch 26, Average training loss: 0.510546879976173, Average valid loss: 0.6815994773060083\n",
      "Finished Epoch 27, Average training loss: 0.501288727789768, Average valid loss: 0.684927238078788\n",
      "Finished Epoch 28, Average training loss: 0.48750166307506154, Average valid loss: 0.692493095131591\n",
      "Finished Epoch 29, Average training loss: 0.4715903712763102, Average valid loss: 0.6957510780598968\n",
      "Finished Epoch 30, Average training loss: 0.46288891953742134, Average valid loss: 0.6695319869089872\n",
      "Finished Epoch 31, Average training loss: 0.4509182498527225, Average valid loss: 0.6890601680018008\n",
      "Finished Epoch 32, Average training loss: 0.4448000537812477, Average valid loss: 0.6607534160166979\n",
      "Finished Epoch 33, Average training loss: 0.4348776830562856, Average valid loss: 0.6721475844457746\n",
      "Finished Epoch 34, Average training loss: 0.42841653134557417, Average valid loss: 0.6931679530721158\n",
      "Finished Epoch 35, Average training loss: 0.4133178718680283, Average valid loss: 0.6715084419595078\n",
      "Finished Epoch 36, Average training loss: 0.4006521639626007, Average valid loss: 0.6812201223280281\n",
      "Finished Epoch 37, Average training loss: 0.39503612016979606, Average valid loss: 0.6779856542679481\n",
      "Epoch 00038: reducing learning rate of group 0 to 1.0000e-03.\n",
      "Finished Epoch 38, Average training loss: 0.38855465706973336, Average valid loss: 0.6821171792391688\n",
      "Finished Epoch 39, Average training loss: 0.2961619126741425, Average valid loss: 0.6391129438928328\n",
      "Finished Epoch 40, Average training loss: 0.26578528865558837, Average valid loss: 0.6383481032229029\n",
      "Finished Epoch 41, Average training loss: 0.2600459852336207, Average valid loss: 0.6420863997964188\n",
      "Finished Epoch 42, Average training loss: 0.25040285844918253, Average valid loss: 0.6506094544190564\n",
      "Finished Epoch 43, Average training loss: 0.24719714974920498, Average valid loss: 0.6521082925023511\n",
      "Finished Epoch 44, Average training loss: 0.23519223967198924, Average valid loss: 0.6495956502896734\n",
      "Finished Epoch 45, Average training loss: 0.23562146744251367, Average valid loss: 0.6432176719680428\n",
      "Epoch 00046: reducing learning rate of group 0 to 1.0000e-04.\n",
      "Finished Epoch 46, Average training loss: 0.23207716440524018, Average valid loss: 0.6571913397684693\n",
      "Finished Epoch 47, Average training loss: 0.2182167213851062, Average valid loss: 0.6474535501569044\n",
      "Finished Epoch 48, Average training loss: 0.21569674978626427, Average valid loss: 0.6676794640365988\n",
      "Finished Epoch 49, Average training loss: 0.2105855700594402, Average valid loss: 0.6645344727740158\n",
      "Finished Epoch 50, Average training loss: 0.20882732205304638, Average valid loss: 0.6715388385532424\n",
      "Finished Epoch 51, Average training loss: 0.21830102526248082, Average valid loss: 0.6571079166358104\n",
      "Epoch 00052: reducing learning rate of group 0 to 1.0000e-05.\n",
      "Finished Epoch 52, Average training loss: 0.214512758103112, Average valid loss: 0.6629832511027344\n",
      "Finished Epoch 53, Average training loss: 0.21493277571812358, Average valid loss: 0.6593975623017176\n",
      "Finished Epoch 54, Average training loss: 0.21730226050050988, Average valid loss: 0.6686293336167001\n",
      "Finished Epoch 55, Average training loss: 0.21153005871568167, Average valid loss: 0.6518197072822659\n",
      "Finished Epoch 56, Average training loss: 0.21279858248739036, Average valid loss: 0.6677674210080877\n",
      "Finished Epoch 57, Average training loss: 0.21795684534437895, Average valid loss: 0.6528108230223879\n",
      "Epoch 00058: reducing learning rate of group 0 to 1.0000e-06.\n",
      "Finished Epoch 58, Average training loss: 0.21195361245371896, Average valid loss: 0.6662958380293567\n",
      "Finished Epoch 59, Average training loss: 0.21599894158061214, Average valid loss: 0.666201385260094\n",
      "Finished Epoch 60, Average training loss: 0.21236269771160732, Average valid loss: 0.6580506723943399\n"
     ]
    }
   ],
   "source": [
    "### YOUR CODE HERE ###\n",
    "\n",
    "device = torch.device(\"cuda\" if torch.cuda.is_available() else \"cpu\")\n",
    "print(\"Using device\", device)\n",
    "\n",
    "epochs = 60\n",
    "batch_size = 32\n",
    "learning_rate = 0.01\n",
    "\n",
    "class CNN(nn.Module):\n",
    "    def __init__(self):\n",
    "        super().__init__()\n",
    "        # Adjust the kernel size and stride for CIFAR-10's 32x32 images\n",
    "        self.features = nn.Sequential(\n",
    "            nn.Conv2d(3, 64, kernel_size=3, stride=2, padding=1),\n",
    "            nn.ReLU(inplace=True),\n",
    "            nn.MaxPool2d(kernel_size=2),\n",
    "            nn.Conv2d(64, 192, kernel_size=3, padding=1),\n",
    "            nn.ReLU(inplace=True),\n",
    "            nn.MaxPool2d(kernel_size=2),\n",
    "            nn.Conv2d(192, 384, kernel_size=3, padding=1),\n",
    "            nn.ReLU(inplace=True),\n",
    "            nn.Conv2d(384, 256, kernel_size=3, padding=1),\n",
    "            nn.ReLU(inplace=True),\n",
    "            nn.Conv2d(256, 256, kernel_size=3, padding=1),\n",
    "            nn.ReLU(inplace=True),\n",
    "            nn.MaxPool2d(kernel_size=2),\n",
    "        )\n",
    "        self.avgpool = nn.AdaptiveAvgPool2d((6, 6))  # Adjust the size to match the output from your features\n",
    "        self.classifier = nn.Sequential(\n",
    "            nn.Dropout(),\n",
    "            nn.Linear(256 * 6 * 6, 4096),  # Adjust the linear layer input size to match the flattened feature map\n",
    "            nn.ReLU(inplace=True),\n",
    "            nn.Dropout(),\n",
    "            nn.Linear(4096, 4096),\n",
    "            nn.ReLU(inplace=True),\n",
    "            nn.Linear(4096, 10),\n",
    "        )\n",
    "\n",
    "    def forward(self, x):\n",
    "        x = self.features(x)\n",
    "        x = self.avgpool(x)\n",
    "        x = torch.flatten(x, 1)\n",
    "        x = self.classifier(x)\n",
    "        return x\n",
    "\n",
    "# Calling Model\n",
    "model = CNN().to(device)\n",
    "optimizer = torch.optim.SGD(model.parameters(), lr=learning_rate)\n",
    "scheduler = ReduceLROnPlateau(optimizer, mode='min', factor=0.1, patience=5, verbose=True)\n",
    "criterion = torch.nn.CrossEntropyLoss()\n",
    "\n",
    "# Creating lists\n",
    "train_losses, valid_losses = [], []\n",
    "train_accuracy, valid_accuracy = [], []\n",
    "\n",
    "for epoch in range(epochs):\n",
    "    model.train()\n",
    "    temp_train_losses, temp_valid_losses = [], []\n",
    "    total_correct, total_samples = 0, 0\n",
    "\n",
    "    # Training losses\n",
    "    for x, y in train_loader:\n",
    "        x, y = x.to(device), y.to(device, dtype=torch.long)\n",
    "        optimizer.zero_grad() # Remove the gradients from the previous step\n",
    "        pred = model(x)\n",
    "        loss = criterion(pred, y)\n",
    "        loss.backward()\n",
    "        optimizer.step()\n",
    "        temp_train_losses.append(loss.item())\n",
    "        # Getting Accuracy\n",
    "        _, predicted = torch.max(pred, 1)\n",
    "        total_correct += (predicted == y).sum().item()\n",
    "        total_samples += y.size(0)\n",
    "        \n",
    "    train_losses.append(np.mean(temp_train_losses))\n",
    "    train_accuracy.append(total_correct / total_samples)\n",
    "    total_correct, total_samples = 0, 0 \n",
    "\n",
    "    # Validation losses\n",
    "    model.eval()\n",
    "    with torch.no_grad():\n",
    "        for x, y in valid_loader:\n",
    "            x, y = x.to(device), y.to(device, dtype=torch.long)\n",
    "            pred = model(x)\n",
    "            loss = criterion(pred, y)\n",
    "            temp_valid_losses.append(loss.item())\n",
    "            # Getting Accuracy\n",
    "            _, predicted = torch.max(pred, 1)\n",
    "            total_correct += (predicted == y).sum().item()\n",
    "            total_samples += y.size(0)\n",
    "  \n",
    "        valid_losses.append(np.mean(temp_valid_losses))\n",
    "        scheduler.step(np.mean(temp_valid_losses))\n",
    "        valid_accuracy.append(total_correct / total_samples)\n",
    "    print(f\"Finished Epoch {epoch + 1}, Average training loss: {np.mean(temp_train_losses)}, Average valid loss: {np.mean(temp_valid_losses)}\")"
   ]
  },
  {
   "cell_type": "code",
   "execution_count": 19,
   "id": "dc951215",
   "metadata": {
    "execution": {
     "iopub.execute_input": "2024-04-20T04:11:25.866694Z",
     "iopub.status.busy": "2024-04-20T04:11:25.866081Z",
     "iopub.status.idle": "2024-04-20T04:11:26.495655Z",
     "shell.execute_reply": "2024-04-20T04:11:26.494748Z"
    },
    "executionInfo": {
     "elapsed": 1078,
     "status": "ok",
     "timestamp": 1713166145169,
     "user": {
      "displayName": "JAY CHEN",
      "userId": "06914961642607435287"
     },
     "user_tz": 420
    },
    "id": "vt0leWdUp8ww",
    "outputId": "c2bb8332-0109-4291-f2c9-97c77b2a211f",
    "papermill": {
     "duration": 0.780356,
     "end_time": "2024-04-20T04:11:26.498516",
     "exception": false,
     "start_time": "2024-04-20T04:11:25.718160",
     "status": "completed"
    },
    "tags": []
   },
   "outputs": [
    {
     "data": {
      "image/png": "[encoded data removed]",
      "text/plain": [
       "<Figure size 640x480 with 1 Axes>"
      ]
     },
     "metadata": {},
     "output_type": "display_data"
    },
    {
     "data": {
      "image/png": "[encoded data removed]",
      "text/plain": [
       "<Figure size 640x480 with 1 Axes>"
      ]
     },
     "metadata": {},
     "output_type": "display_data"
    },
    {
     "name": "stdout",
     "output_type": "stream",
     "text": [
      "Training Accuracy: 0.8009991666666666, Validation Accuracy: 0.7426483333333334\n"
     ]
    }
   ],
   "source": [
    "# Training loss and validation loss for each epoch after training for at least 8 epochs\n",
    "plt.plot(range(1, epochs+1), train_losses, label='Training Loss')\n",
    "plt.plot(range(1, epochs+1), valid_losses, label='Validation Loss')\n",
    "plt.xlabel('Epoch')\n",
    "plt.ylabel('Average Loss')\n",
    "plt.title('Training Loss and Validation Loss Per Epoch for CIFAR-10')\n",
    "plt.legend()\n",
    "plt.show()\n",
    "\n",
    "# A plot of the training and validation accuracy, at least 82% for validation by the end of training.\n",
    "plt.plot(range(1, epochs+1), train_accuracy, label='Training Accuracy')\n",
    "plt.plot(range(1, epochs+1), valid_accuracy, label='Validation Accuracy')\n",
    "plt.xlabel('Epoch')\n",
    "plt.ylabel('Accuracy')\n",
    "plt.title('Training And Validation Accuracy Per Epoch for CIFAR-10')\n",
    "plt.legend()\n",
    "plt.show()\n",
    "\n",
    "print(f\"Training Accuracy: {np.mean(train_accuracy)}, Validation Accuracy: {np.mean(valid_accuracy)}\")"
   ]
  },
  {
   "cell_type": "markdown",
   "id": "f5446bb6",
   "metadata": {
    "id": "pNPuqiPEs8QI",
    "papermill": {
     "duration": 0.14653,
     "end_time": "2024-04-20T04:11:26.792964",
     "exception": false,
     "start_time": "2024-04-20T04:11:26.646434",
     "status": "completed"
    },
    "tags": []
   },
   "source": [
    "### Kaggle Submission\n",
    "The following code is for you to make your submission to kaggle. Here are the steps you must follow:\n",
    "\n",
    "1. Upload `cifar_test_data_sp24.npy` to the colab notebook by going to files on the left hand pane, then hitting \"upload\". This file may take roughly a minute to upload and you should not proceed to the following steps until it has completely finished uploading (students in the past have run into issues where they were accidentally testing on a partially uploaded test set and getting garbage results).\n",
    "2. Run the following cell to generate the dataset object for the test data. Feel free to modify the code to use the same transforms that you use for the training data. By default, this will re-use the `transform` variable.\n",
    "3. In the second cell, write code to run predictions on the testing dataset and store them into an array called `predictions`.\n",
    "4. Run the final cell which will convert your predictions array into a CSV for kaggle.\n",
    "5. Go to the files pane again, and download the file called `submission.csv` by clicking the three dots and then download.\n"
   ]
  },
  {
   "cell_type": "code",
   "execution_count": 21,
   "id": "a0b8fff2",
   "metadata": {
    "execution": {
     "iopub.execute_input": "2024-04-20T04:11:33.384663Z",
     "iopub.status.busy": "2024-04-20T04:11:33.383945Z",
     "iopub.status.idle": "2024-04-20T04:11:34.009112Z",
     "shell.execute_reply": "2024-04-20T04:11:34.007860Z"
    },
    "id": "dzC5hCcZlBoF",
    "outputId": "1ad56971-8efa-47e7-8aba-b5abd4400908",
    "papermill": {
     "duration": 0.77873,
     "end_time": "2024-04-20T04:11:34.012410",
     "exception": false,
     "start_time": "2024-04-20T04:11:33.233680",
     "status": "completed"
    },
    "tags": []
   },
   "outputs": [],
   "source": [
    "from PIL import Image\n",
    "import os\n",
    "\n",
    "class CIFAR10Test(torchvision.datasets.VisionDataset):\n",
    "\n",
    "    def __init__(self, transform=None, target_transform=None):\n",
    "        super(CIFAR10Test, self).__init__(None, transform=transform,\n",
    "                                      target_transform=target_transform)\n",
    "        assert os.path.exists(\"/kaggle/input/cifar10-test-data-sp24-npy/cifar10_test_data_sp24.npy\"), \"You must upload the test data to the file system.\"\n",
    "        self.data = [np.load(\"/kaggle/input/cifar10-test-data-sp24-npy/cifar10_test_data_sp24.npy\", allow_pickle=False)]\n",
    "\n",
    "        self.data = np.vstack(self.data).reshape(-1, 3, 32, 32)\n",
    "        self.data = self.data.transpose((0, 2, 3, 1))  # convert to HWC\n",
    "\n",
    "    def __getitem__(self, index: int):\n",
    "        img = self.data[index]\n",
    "        img = Image.fromarray(img)\n",
    "        if self.transform is not None:\n",
    "            img = self.transform(img)\n",
    "        return img\n",
    "\n",
    "    def __len__(self) -> int:\n",
    "        return len(self.data)\n",
    "\n",
    "# Create the test dataset\n",
    "testing_data = CIFAR10Test(\n",
    "    transform=train_transforms, # NOTE: Make sure transform is the same as used in the training dataset.\n",
    ")"
   ]
  },
  {
   "cell_type": "code",
   "execution_count": 22,
   "id": "776c00b7",
   "metadata": {
    "execution": {
     "iopub.execute_input": "2024-04-20T04:11:34.336222Z",
     "iopub.status.busy": "2024-04-20T04:11:34.335737Z",
     "iopub.status.idle": "2024-04-20T04:11:40.224239Z",
     "shell.execute_reply": "2024-04-20T04:11:40.223417Z"
    },
    "id": "mzXwbAetsF4v",
    "papermill": {
     "duration": 6.048166,
     "end_time": "2024-04-20T04:11:40.226524",
     "exception": false,
     "start_time": "2024-04-20T04:11:34.178358",
     "status": "completed"
    },
    "tags": []
   },
   "outputs": [],
   "source": [
    "### YOUR CODE HERE ###\n",
    "model.eval()\n",
    "test_loader = DataLoader(testing_data, batch_size=batch_size, shuffle=False)\n",
    "# Store a numpy vector of the predictions for the test set in the variable `predictions`.\n",
    "predictions = []\n",
    "with torch.no_grad():\n",
    "    for data in test_loader:\n",
    "        images = data.to(device)\n",
    "        outputs = model(images)\n",
    "        _, predicted = torch.max(outputs, 1)\n",
    "        predictions.extend(predicted.cpu().numpy())\n",
    "predictions_array = np.array(predictions)"
   ]
  },
  {
   "cell_type": "code",
   "execution_count": 23,
   "id": "3facbf03",
   "metadata": {
    "execution": {
     "iopub.execute_input": "2024-04-20T04:11:40.523484Z",
     "iopub.status.busy": "2024-04-20T04:11:40.522595Z",
     "iopub.status.idle": "2024-04-20T04:11:41.368281Z",
     "shell.execute_reply": "2024-04-20T04:11:41.367275Z"
    },
    "id": "NilUcXbjsuy5",
    "papermill": {
     "duration": 0.995688,
     "end_time": "2024-04-20T04:11:41.370656",
     "exception": false,
     "start_time": "2024-04-20T04:11:40.374968",
     "status": "completed"
    },
    "tags": []
   },
   "outputs": [],
   "source": [
    "# This code below will generate kaggle_predictions.csv file. Please download it and submit to kaggle.\n",
    "import pandas as pd\n",
    "\n",
    "if isinstance(predictions, np.ndarray):\n",
    "    predictions = predictions.astype(int)\n",
    "else:\n",
    "    predictions = np.array(predictions, dtype=int)\n",
    "assert predictions.shape == (len(testing_data),), \"Predictions were not the correct shape\"\n",
    "df = pd.DataFrame({'Category': predictions})\n",
    "df.index += 1  # Ensures that the index starts at 1.\n",
    "df.to_csv('submission.csv', index_label='Id')\n",
    "\n",
    "# Now download the submission.csv file to submit."
   ]
  },
  {
   "cell_type": "markdown",
   "id": "19f6c8f4",
   "metadata": {
    "id": "ofNTv8Z57x1w",
    "papermill": {
     "duration": 0.147052,
     "end_time": "2024-04-20T04:11:41.665121",
     "exception": false,
     "start_time": "2024-04-20T04:11:41.518069",
     "status": "completed"
    },
    "tags": []
   },
   "source": [
    "Congrats! You made it to the end."
   ]
  },
  {
   "cell_type": "markdown",
   "id": "70ee7191",
   "metadata": {
    "papermill": {
     "duration": 0.146856,
     "end_time": "2024-04-20T04:11:41.959043",
     "exception": false,
     "start_time": "2024-04-20T04:11:41.812187",
     "status": "completed"
    },
    "tags": []
   },
   "source": [
    "#### Model description:\n",
    "Before using the training data, I first normalized the data and performed some data augmentation then split it into training data and validation data by 80% and 20%. <br>\n",
    "In my model, I got inspiration from the AlexNet with ReduceLROnPlateau scheduler. I first used five Convolution Layers as my features layers, each layer with ReLu as activation function and a maxpooling layer to change the size of the images. Then an average pooling layer to adjust the size to match the output from the features, and dropout, flatten the spatial dimensions to match the flattened feature map, and I applied the ReLu function and linear layer again, finally use linear layer to output the size to be 10, which is the output classes. <br>\n",
    "The ReduceLRonPlateau also contributes to the performance, it takes the validation loss as reference, I set the patience to be 5, so if 5 epoches the validation losses are not decreasing, it will change the learning rate to be smaller. "
   ]
  },
  {
   "cell_type": "markdown",
   "id": "89c85051-74f7-4aa7-9430-03a6ef88ee54",
   "metadata": {
    "papermill": {
     "duration": 0.151545,
     "end_time": "2024-04-20T04:11:42.258291",
     "exception": false,
     "start_time": "2024-04-20T04:11:42.106746",
     "status": "completed"
    },
    "tags": []
   },
   "source": [
    "#### Kaggle Score\n",
    "![kaggle_score](kaggle_score.png)"
   ]
  }
 ],
 "metadata": {
  "accelerator": "GPU",
  "colab": {
   "gpuType": "T4",
   "provenance": [
    {
     "file_id": "1D103qRtT1xFbYdXYKozENiabrnIwdMSY",
     "timestamp": 1713047741011
    },
    {
     "file_id": "1Gdb_-QfFuXFAek5cISaJF2_zfByvtcq_",
     "timestamp": 1710966288728
    },
    {
     "file_id": "1FjSSscHQu4YXFaNUJ1B4a_tvLPyy3WxB",
     "timestamp": 1616794898618
    }
   ]
  },
  "kaggle": {
   "accelerator": "gpu",
   "dataSources": [
    {
     "datasetId": 4800551,
     "sourceId": 8123687,
     "sourceType": "datasetVersion"
    },
    {
     "datasetId": 4827653,
     "sourceId": 8160096,
     "sourceType": "datasetVersion"
    }
   ],
   "dockerImageVersionId": 30698,
   "isGpuEnabled": true,
   "isInternetEnabled": true,
   "language": "python",
   "sourceType": "notebook"
  },
  "kernelspec": {
   "display_name": "Python 3 (ipykernel)",
   "language": "python",
   "name": "python3"
  },
  "language_info": {
   "codemirror_mode": {
    "name": "ipython",
    "version": 3
   },
   "file_extension": ".py",
   "mimetype": "text/x-python",
   "name": "python",
   "nbconvert_exporter": "python",
   "pygments_lexer": "ipython3",
   "version": "3.11.7"
  },
  "papermill": {
   "default_parameters": {},
   "duration": 3279.980161,
   "end_time": "2024-04-20T04:11:44.151649",
   "environment_variables": {},
   "exception": null,
   "input_path": "__notebook__.ipynb",
   "output_path": "__notebook__.ipynb",
   "parameters": {},
   "start_time": "2024-04-20T03:17:04.171488",
   "version": "2.5.0"
  },
  "widgets": {
   "application/vnd.jupyter.widget-state+json": {
    "state": {
     "002f56d82ccc4c3a807cdce153619aa6": {
      "model_module": "@jupyter-widgets/controls",
      "model_module_version": "1.5.0",
      "model_name": "FloatProgressModel",
      "state": {
       "_dom_classes": [],
       "_model_module": "@jupyter-widgets/controls",
       "_model_module_version": "1.5.0",
       "_model_name": "FloatProgressModel",
       "_view_count": null,
       "_view_module": "@jupyter-widgets/controls",
       "_view_module_version": "1.5.0",
       "_view_name": "ProgressView",
       "bar_style": "success",
       "description": "",
       "description_tooltip": null,
       "layout": "IPY_MODEL_f3218694066c42e1a2fa036a08b6ba39",
       "max": 20,
       "min": 0,
       "orientation": "horizontal",
       "style": "IPY_MODEL_98fdadca116643f7b00284175588919b",
       "value": 20
      }
     },
     "00e3429f1fc44bfebd0f2592b8e32ea4": {
      "model_module": "@jupyter-widgets/controls",
      "model_module_version": "1.5.0",
      "model_name": "HTMLModel",
      "state": {
       "_dom_classes": [],
       "_model_module": "@jupyter-widgets/controls",
       "_model_module_version": "1.5.0",
       "_model_name": "HTMLModel",
       "_view_count": null,
       "_view_module": "@jupyter-widgets/controls",
       "_view_module_version": "1.5.0",
       "_view_name": "HTMLView",
       "description": "",
       "description_tooltip": null,
       "layout": "IPY_MODEL_52fb828bde954dd797b50c9b8f19fe1f",
       "placeholder": "​",
       "style": "IPY_MODEL_8bf1e0c9682c45498895cc2e49a82e33",
       "value": "100%"
      }
     },
     "016da6dc7cf24dc0b02766b7447df6a4": {
      "model_module": "@jupyter-widgets/controls",
      "model_module_version": "1.5.0",
      "model_name": "DescriptionStyleModel",
      "state": {
       "_model_module": "@jupyter-widgets/controls",
       "_model_module_version": "1.5.0",
       "_model_name": "DescriptionStyleModel",
       "_view_count": null,
       "_view_module": "@jupyter-widgets/base",
       "_view_module_version": "1.2.0",
       "_view_name": "StyleView",
       "description_width": ""
      }
     },
     "049d2e0100f8477d8d595472eb93b06a": {
      "model_module": "@jupyter-widgets/base",
      "model_module_version": "1.2.0",
      "model_name": "LayoutModel",
      "state": {
       "_model_module": "@jupyter-widgets/base",
       "_model_module_version": "1.2.0",
       "_model_name": "LayoutModel",
       "_view_count": null,
       "_view_module": "@jupyter-widgets/base",
       "_view_module_version": "1.2.0",
       "_view_name": "LayoutView",
       "align_content": null,
       "align_items": null,
       "align_self": null,
       "border": null,
       "bottom": null,
       "display": null,
       "flex": null,
       "flex_flow": null,
       "grid_area": null,
       "grid_auto_columns": null,
       "grid_auto_flow": null,
       "grid_auto_rows": null,
       "grid_column": null,
       "grid_gap": null,
       "grid_row": null,
       "grid_template_areas": null,
       "grid_template_columns": null,
       "grid_template_rows": null,
       "height": null,
       "justify_content": null,
       "justify_items": null,
       "left": null,
       "margin": null,
       "max_height": null,
       "max_width": null,
       "min_height": null,
       "min_width": null,
       "object_fit": null,
       "object_position": null,
       "order": null,
       "overflow": null,
       "overflow_x": null,
       "overflow_y": null,
       "padding": null,
       "right": null,
       "top": null,
       "visibility": null,
       "width": null
      }
     },
     "128d26f7f49e4a389b80b74a3a28d349": {
      "model_module": "@jupyter-widgets/controls",
      "model_module_version": "1.5.0",
      "model_name": "HTMLModel",
      "state": {
       "_dom_classes": [],
       "_model_module": "@jupyter-widgets/controls",
       "_model_module_version": "1.5.0",
       "_model_name": "HTMLModel",
       "_view_count": null,
       "_view_module": "@jupyter-widgets/controls",
       "_view_module_version": "1.5.0",
       "_view_name": "HTMLView",
       "description": "",
       "description_tooltip": null,
       "layout": "IPY_MODEL_b433f3bc3f22455797a19b36de4e3246",
       "placeholder": "​",
       "style": "IPY_MODEL_96dd86a188614a63997197133d2a1b0d",
       "value": "100%"
      }
     },
     "15a869eb6c8144eeadd41adf6a77aac6": {
      "model_module": "@jupyter-widgets/base",
      "model_module_version": "1.2.0",
      "model_name": "LayoutModel",
      "state": {
       "_model_module": "@jupyter-widgets/base",
       "_model_module_version": "1.2.0",
       "_model_name": "LayoutModel",
       "_view_count": null,
       "_view_module": "@jupyter-widgets/base",
       "_view_module_version": "1.2.0",
       "_view_name": "LayoutView",
       "align_content": null,
       "align_items": null,
       "align_self": null,
       "border": null,
       "bottom": null,
       "display": null,
       "flex": null,
       "flex_flow": null,
       "grid_area": null,
       "grid_auto_columns": null,
       "grid_auto_flow": null,
       "grid_auto_rows": null,
       "grid_column": null,
       "grid_gap": null,
       "grid_row": null,
       "grid_template_areas": null,
       "grid_template_columns": null,
       "grid_template_rows": null,
       "height": null,
       "justify_content": null,
       "justify_items": null,
       "left": null,
       "margin": null,
       "max_height": null,
       "max_width": null,
       "min_height": null,
       "min_width": null,
       "object_fit": null,
       "object_position": null,
       "order": null,
       "overflow": null,
       "overflow_x": null,
       "overflow_y": null,
       "padding": null,
       "right": null,
       "top": null,
       "visibility": null,
       "width": null
      }
     },
     "1841f15fa55a4ed3b35dbe1c8cc5ae4f": {
      "model_module": "@jupyter-widgets/base",
      "model_module_version": "1.2.0",
      "model_name": "LayoutModel",
      "state": {
       "_model_module": "@jupyter-widgets/base",
       "_model_module_version": "1.2.0",
       "_model_name": "LayoutModel",
       "_view_count": null,
       "_view_module": "@jupyter-widgets/base",
       "_view_module_version": "1.2.0",
       "_view_name": "LayoutView",
       "align_content": null,
       "align_items": null,
       "align_self": null,
       "border": null,
       "bottom": null,
       "display": null,
       "flex": null,
       "flex_flow": null,
       "grid_area": null,
       "grid_auto_columns": null,
       "grid_auto_flow": null,
       "grid_auto_rows": null,
       "grid_column": null,
       "grid_gap": null,
       "grid_row": null,
       "grid_template_areas": null,
       "grid_template_columns": null,
       "grid_template_rows": null,
       "height": null,
       "justify_content": null,
       "justify_items": null,
       "left": null,
       "margin": null,
       "max_height": null,
       "max_width": null,
       "min_height": null,
       "min_width": null,
       "object_fit": null,
       "object_position": null,
       "order": null,
       "overflow": null,
       "overflow_x": null,
       "overflow_y": null,
       "padding": null,
       "right": null,
       "top": null,
       "visibility": null,
       "width": null
      }
     },
     "1a2b3f6cdecf4261801126ebe096b98e": {
      "model_module": "@jupyter-widgets/controls",
      "model_module_version": "1.5.0",
      "model_name": "HTMLModel",
      "state": {
       "_dom_classes": [],
       "_model_module": "@jupyter-widgets/controls",
       "_model_module_version": "1.5.0",
       "_model_name": "HTMLModel",
       "_view_count": null,
       "_view_module": "@jupyter-widgets/controls",
       "_view_module_version": "1.5.0",
       "_view_name": "HTMLView",
       "description": "",
       "description_tooltip": null,
       "layout": "IPY_MODEL_2f411e31a53a42e1a24d25920460b359",
       "placeholder": "​",
       "style": "IPY_MODEL_a695038619764c5382005492dc3b6c34",
       "value": " 20/20 [00:00&lt;00:00, 590.33batch/s]"
      }
     },
     "1f695172260b4bba8189c91f0947a4f7": {
      "model_module": "@jupyter-widgets/controls",
      "model_module_version": "1.5.0",
      "model_name": "DescriptionStyleModel",
      "state": {
       "_model_module": "@jupyter-widgets/controls",
       "_model_module_version": "1.5.0",
       "_model_name": "DescriptionStyleModel",
       "_view_count": null,
       "_view_module": "@jupyter-widgets/base",
       "_view_module_version": "1.2.0",
       "_view_name": "StyleView",
       "description_width": ""
      }
     },
     "2465edbca21743b2890bc6ce8f1ccc36": {
      "model_module": "@jupyter-widgets/base",
      "model_module_version": "1.2.0",
      "model_name": "LayoutModel",
      "state": {
       "_model_module": "@jupyter-widgets/base",
       "_model_module_version": "1.2.0",
       "_model_name": "LayoutModel",
       "_view_count": null,
       "_view_module": "@jupyter-widgets/base",
       "_view_module_version": "1.2.0",
       "_view_name": "LayoutView",
       "align_content": null,
       "align_items": null,
       "align_self": null,
       "border": null,
       "bottom": null,
       "display": null,
       "flex": null,
       "flex_flow": null,
       "grid_area": null,
       "grid_auto_columns": null,
       "grid_auto_flow": null,
       "grid_auto_rows": null,
       "grid_column": null,
       "grid_gap": null,
       "grid_row": null,
       "grid_template_areas": null,
       "grid_template_columns": null,
       "grid_template_rows": null,
       "height": null,
       "justify_content": null,
       "justify_items": null,
       "left": null,
       "margin": null,
       "max_height": null,
       "max_width": null,
       "min_height": null,
       "min_width": null,
       "object_fit": null,
       "object_position": null,
       "order": null,
       "overflow": null,
       "overflow_x": null,
       "overflow_y": null,
       "padding": null,
       "right": null,
       "top": null,
       "visibility": null,
       "width": null
      }
     },
     "261397c73a74406fbcd672aa37e94447": {
      "model_module": "@jupyter-widgets/base",
      "model_module_version": "1.2.0",
      "model_name": "LayoutModel",
      "state": {
       "_model_module": "@jupyter-widgets/base",
       "_model_module_version": "1.2.0",
       "_model_name": "LayoutModel",
       "_view_count": null,
       "_view_module": "@jupyter-widgets/base",
       "_view_module_version": "1.2.0",
       "_view_name": "LayoutView",
       "align_content": null,
       "align_items": null,
       "align_self": null,
       "border": null,
       "bottom": null,
       "display": null,
       "flex": null,
       "flex_flow": null,
       "grid_area": null,
       "grid_auto_columns": null,
       "grid_auto_flow": null,
       "grid_auto_rows": null,
       "grid_column": null,
       "grid_gap": null,
       "grid_row": null,
       "grid_template_areas": null,
       "grid_template_columns": null,
       "grid_template_rows": null,
       "height": null,
       "justify_content": null,
       "justify_items": null,
       "left": null,
       "margin": null,
       "max_height": null,
       "max_width": null,
       "min_height": null,
       "min_width": null,
       "object_fit": null,
       "object_position": null,
       "order": null,
       "overflow": null,
       "overflow_x": null,
       "overflow_y": null,
       "padding": null,
       "right": null,
       "top": null,
       "visibility": null,
       "width": null
      }
     },
     "27b3bb527031445ca9f008017c95c38a": {
      "model_module": "@jupyter-widgets/controls",
      "model_module_version": "1.5.0",
      "model_name": "DescriptionStyleModel",
      "state": {
       "_model_module": "@jupyter-widgets/controls",
       "_model_module_version": "1.5.0",
       "_model_name": "DescriptionStyleModel",
       "_view_count": null,
       "_view_module": "@jupyter-widgets/base",
       "_view_module_version": "1.2.0",
       "_view_name": "StyleView",
       "description_width": ""
      }
     },
     "2a456105ca80480d986bbc2603ce6180": {
      "model_module": "@jupyter-widgets/controls",
      "model_module_version": "1.5.0",
      "model_name": "ProgressStyleModel",
      "state": {
       "_model_module": "@jupyter-widgets/controls",
       "_model_module_version": "1.5.0",
       "_model_name": "ProgressStyleModel",
       "_view_count": null,
       "_view_module": "@jupyter-widgets/base",
       "_view_module_version": "1.2.0",
       "_view_name": "StyleView",
       "bar_color": null,
       "description_width": ""
      }
     },
     "2f411e31a53a42e1a24d25920460b359": {
      "model_module": "@jupyter-widgets/base",
      "model_module_version": "1.2.0",
      "model_name": "LayoutModel",
      "state": {
       "_model_module": "@jupyter-widgets/base",
       "_model_module_version": "1.2.0",
       "_model_name": "LayoutModel",
       "_view_count": null,
       "_view_module": "@jupyter-widgets/base",
       "_view_module_version": "1.2.0",
       "_view_name": "LayoutView",
       "align_content": null,
       "align_items": null,
       "align_self": null,
       "border": null,
       "bottom": null,
       "display": null,
       "flex": null,
       "flex_flow": null,
       "grid_area": null,
       "grid_auto_columns": null,
       "grid_auto_flow": null,
       "grid_auto_rows": null,
       "grid_column": null,
       "grid_gap": null,
       "grid_row": null,
       "grid_template_areas": null,
       "grid_template_columns": null,
       "grid_template_rows": null,
       "height": null,
       "justify_content": null,
       "justify_items": null,
       "left": null,
       "margin": null,
       "max_height": null,
       "max_width": null,
       "min_height": null,
       "min_width": null,
       "object_fit": null,
       "object_position": null,
       "order": null,
       "overflow": null,
       "overflow_x": null,
       "overflow_y": null,
       "padding": null,
       "right": null,
       "top": null,
       "visibility": null,
       "width": null
      }
     },
     "3072e15287a2461d901daa30cae20d5c": {
      "model_module": "@jupyter-widgets/base",
      "model_module_version": "1.2.0",
      "model_name": "LayoutModel",
      "state": {
       "_model_module": "@jupyter-widgets/base",
       "_model_module_version": "1.2.0",
       "_model_name": "LayoutModel",
       "_view_count": null,
       "_view_module": "@jupyter-widgets/base",
       "_view_module_version": "1.2.0",
       "_view_name": "LayoutView",
       "align_content": null,
       "align_items": null,
       "align_self": null,
       "border": null,
       "bottom": null,
       "display": null,
       "flex": null,
       "flex_flow": null,
       "grid_area": null,
       "grid_auto_columns": null,
       "grid_auto_flow": null,
       "grid_auto_rows": null,
       "grid_column": null,
       "grid_gap": null,
       "grid_row": null,
       "grid_template_areas": null,
       "grid_template_columns": null,
       "grid_template_rows": null,
       "height": null,
       "justify_content": null,
       "justify_items": null,
       "left": null,
       "margin": null,
       "max_height": null,
       "max_width": null,
       "min_height": null,
       "min_width": null,
       "object_fit": null,
       "object_position": null,
       "order": null,
       "overflow": null,
       "overflow_x": null,
       "overflow_y": null,
       "padding": null,
       "right": null,
       "top": null,
       "visibility": null,
       "width": null
      }
     },
     "31cb91fea9a24516bd0689454fcea08a": {
      "model_module": "@jupyter-widgets/controls",
      "model_module_version": "1.5.0",
      "model_name": "DescriptionStyleModel",
      "state": {
       "_model_module": "@jupyter-widgets/controls",
       "_model_module_version": "1.5.0",
       "_model_name": "DescriptionStyleModel",
       "_view_count": null,
       "_view_module": "@jupyter-widgets/base",
       "_view_module_version": "1.2.0",
       "_view_name": "StyleView",
       "description_width": ""
      }
     },
     "3810968c9c424eeb85dcb03973873a65": {
      "model_module": "@jupyter-widgets/base",
      "model_module_version": "1.2.0",
      "model_name": "LayoutModel",
      "state": {
       "_model_module": "@jupyter-widgets/base",
       "_model_module_version": "1.2.0",
       "_model_name": "LayoutModel",
       "_view_count": null,
       "_view_module": "@jupyter-widgets/base",
       "_view_module_version": "1.2.0",
       "_view_name": "LayoutView",
       "align_content": null,
       "align_items": null,
       "align_self": null,
       "border": null,
       "bottom": null,
       "display": null,
       "flex": null,
       "flex_flow": null,
       "grid_area": null,
       "grid_auto_columns": null,
       "grid_auto_flow": null,
       "grid_auto_rows": null,
       "grid_column": null,
       "grid_gap": null,
       "grid_row": null,
       "grid_template_areas": null,
       "grid_template_columns": null,
       "grid_template_rows": null,
       "height": null,
       "justify_content": null,
       "justify_items": null,
       "left": null,
       "margin": null,
       "max_height": null,
       "max_width": null,
       "min_height": null,
       "min_width": null,
       "object_fit": null,
       "object_position": null,
       "order": null,
       "overflow": null,
       "overflow_x": null,
       "overflow_y": null,
       "padding": null,
       "right": null,
       "top": null,
       "visibility": null,
       "width": null
      }
     },
     "39b1e9ad42af4cb4ad3c1d5c3af4c8c3": {
      "model_module": "@jupyter-widgets/base",
      "model_module_version": "1.2.0",
      "model_name": "LayoutModel",
      "state": {
       "_model_module": "@jupyter-widgets/base",
       "_model_module_version": "1.2.0",
       "_model_name": "LayoutModel",
       "_view_count": null,
       "_view_module": "@jupyter-widgets/base",
       "_view_module_version": "1.2.0",
       "_view_name": "LayoutView",
       "align_content": null,
       "align_items": null,
       "align_self": null,
       "border": null,
       "bottom": null,
       "display": null,
       "flex": null,
       "flex_flow": null,
       "grid_area": null,
       "grid_auto_columns": null,
       "grid_auto_flow": null,
       "grid_auto_rows": null,
       "grid_column": null,
       "grid_gap": null,
       "grid_row": null,
       "grid_template_areas": null,
       "grid_template_columns": null,
       "grid_template_rows": null,
       "height": null,
       "justify_content": null,
       "justify_items": null,
       "left": null,
       "margin": null,
       "max_height": null,
       "max_width": null,
       "min_height": null,
       "min_width": null,
       "object_fit": null,
       "object_position": null,
       "order": null,
       "overflow": null,
       "overflow_x": null,
       "overflow_y": null,
       "padding": null,
       "right": null,
       "top": null,
       "visibility": null,
       "width": null
      }
     },
     "39dc27ac89be41589fd2f9107bc62f64": {
      "model_module": "@jupyter-widgets/base",
      "model_module_version": "1.2.0",
      "model_name": "LayoutModel",
      "state": {
       "_model_module": "@jupyter-widgets/base",
       "_model_module_version": "1.2.0",
       "_model_name": "LayoutModel",
       "_view_count": null,
       "_view_module": "@jupyter-widgets/base",
       "_view_module_version": "1.2.0",
       "_view_name": "LayoutView",
       "align_content": null,
       "align_items": null,
       "align_self": null,
       "border": null,
       "bottom": null,
       "display": null,
       "flex": null,
       "flex_flow": null,
       "grid_area": null,
       "grid_auto_columns": null,
       "grid_auto_flow": null,
       "grid_auto_rows": null,
       "grid_column": null,
       "grid_gap": null,
       "grid_row": null,
       "grid_template_areas": null,
       "grid_template_columns": null,
       "grid_template_rows": null,
       "height": null,
       "justify_content": null,
       "justify_items": null,
       "left": null,
       "margin": null,
       "max_height": null,
       "max_width": null,
       "min_height": null,
       "min_width": null,
       "object_fit": null,
       "object_position": null,
       "order": null,
       "overflow": null,
       "overflow_x": null,
       "overflow_y": null,
       "padding": null,
       "right": null,
       "top": null,
       "visibility": null,
       "width": null
      }
     },
     "39dd1bbf673c4e2e86e2f8da3598d30a": {
      "model_module": "@jupyter-widgets/controls",
      "model_module_version": "1.5.0",
      "model_name": "HBoxModel",
      "state": {
       "_dom_classes": [],
       "_model_module": "@jupyter-widgets/controls",
       "_model_module_version": "1.5.0",
       "_model_name": "HBoxModel",
       "_view_count": null,
       "_view_module": "@jupyter-widgets/controls",
       "_view_module_version": "1.5.0",
       "_view_name": "HBoxView",
       "box_style": "",
       "children": [
        "IPY_MODEL_58138a9e830b4047ac1437b51ae07fde",
        "IPY_MODEL_43728dc81fc54996ba9b5b27c5619882",
        "IPY_MODEL_c2195548876145298a3346307ef47047"
       ],
       "layout": "IPY_MODEL_65258bbd62c748f28ffbb1646046d757"
      }
     },
     "3c7be99a69bc4b139b88a96350ec9d93": {
      "model_module": "@jupyter-widgets/base",
      "model_module_version": "1.2.0",
      "model_name": "LayoutModel",
      "state": {
       "_model_module": "@jupyter-widgets/base",
       "_model_module_version": "1.2.0",
       "_model_name": "LayoutModel",
       "_view_count": null,
       "_view_module": "@jupyter-widgets/base",
       "_view_module_version": "1.2.0",
       "_view_name": "LayoutView",
       "align_content": null,
       "align_items": null,
       "align_self": null,
       "border": null,
       "bottom": null,
       "display": null,
       "flex": null,
       "flex_flow": null,
       "grid_area": null,
       "grid_auto_columns": null,
       "grid_auto_flow": null,
       "grid_auto_rows": null,
       "grid_column": null,
       "grid_gap": null,
       "grid_row": null,
       "grid_template_areas": null,
       "grid_template_columns": null,
       "grid_template_rows": null,
       "height": null,
       "justify_content": null,
       "justify_items": null,
       "left": null,
       "margin": null,
       "max_height": null,
       "max_width": null,
       "min_height": null,
       "min_width": null,
       "object_fit": null,
       "object_position": null,
       "order": null,
       "overflow": null,
       "overflow_x": null,
       "overflow_y": null,
       "padding": null,
       "right": null,
       "top": null,
       "visibility": null,
       "width": null
      }
     },
     "3ead7cabad724802824c0de669924ebe": {
      "model_module": "@jupyter-widgets/base",
      "model_module_version": "1.2.0",
      "model_name": "LayoutModel",
      "state": {
       "_model_module": "@jupyter-widgets/base",
       "_model_module_version": "1.2.0",
       "_model_name": "LayoutModel",
       "_view_count": null,
       "_view_module": "@jupyter-widgets/base",
       "_view_module_version": "1.2.0",
       "_view_name": "LayoutView",
       "align_content": null,
       "align_items": null,
       "align_self": null,
       "border": null,
       "bottom": null,
       "display": null,
       "flex": null,
       "flex_flow": null,
       "grid_area": null,
       "grid_auto_columns": null,
       "grid_auto_flow": null,
       "grid_auto_rows": null,
       "grid_column": null,
       "grid_gap": null,
       "grid_row": null,
       "grid_template_areas": null,
       "grid_template_columns": null,
       "grid_template_rows": null,
       "height": null,
       "justify_content": null,
       "justify_items": null,
       "left": null,
       "margin": null,
       "max_height": null,
       "max_width": null,
       "min_height": null,
       "min_width": null,
       "object_fit": null,
       "object_position": null,
       "order": null,
       "overflow": null,
       "overflow_x": null,
       "overflow_y": null,
       "padding": null,
       "right": null,
       "top": null,
       "visibility": null,
       "width": null
      }
     },
     "41a3197ad1a64914ab13e155ce3f88a3": {
      "model_module": "@jupyter-widgets/controls",
      "model_module_version": "1.5.0",
      "model_name": "DescriptionStyleModel",
      "state": {
       "_model_module": "@jupyter-widgets/controls",
       "_model_module_version": "1.5.0",
       "_model_name": "DescriptionStyleModel",
       "_view_count": null,
       "_view_module": "@jupyter-widgets/base",
       "_view_module_version": "1.2.0",
       "_view_name": "StyleView",
       "description_width": ""
      }
     },
     "43728dc81fc54996ba9b5b27c5619882": {
      "model_module": "@jupyter-widgets/controls",
      "model_module_version": "1.5.0",
      "model_name": "FloatProgressModel",
      "state": {
       "_dom_classes": [],
       "_model_module": "@jupyter-widgets/controls",
       "_model_module_version": "1.5.0",
       "_model_name": "FloatProgressModel",
       "_view_count": null,
       "_view_module": "@jupyter-widgets/controls",
       "_view_module_version": "1.5.0",
       "_view_name": "ProgressView",
       "bar_style": "success",
       "description": "",
       "description_tooltip": null,
       "layout": "IPY_MODEL_2465edbca21743b2890bc6ce8f1ccc36",
       "max": 20,
       "min": 0,
       "orientation": "horizontal",
       "style": "IPY_MODEL_b1a1884e976c4464ac9d634e46ba4d48",
       "value": 20
      }
     },
     "46eaf502438346a7bdb51bb811cfe7d0": {
      "model_module": "@jupyter-widgets/base",
      "model_module_version": "1.2.0",
      "model_name": "LayoutModel",
      "state": {
       "_model_module": "@jupyter-widgets/base",
       "_model_module_version": "1.2.0",
       "_model_name": "LayoutModel",
       "_view_count": null,
       "_view_module": "@jupyter-widgets/base",
       "_view_module_version": "1.2.0",
       "_view_name": "LayoutView",
       "align_content": null,
       "align_items": null,
       "align_self": null,
       "border": null,
       "bottom": null,
       "display": null,
       "flex": null,
       "flex_flow": null,
       "grid_area": null,
       "grid_auto_columns": null,
       "grid_auto_flow": null,
       "grid_auto_rows": null,
       "grid_column": null,
       "grid_gap": null,
       "grid_row": null,
       "grid_template_areas": null,
       "grid_template_columns": null,
       "grid_template_rows": null,
       "height": null,
       "justify_content": null,
       "justify_items": null,
       "left": null,
       "margin": null,
       "max_height": null,
       "max_width": null,
       "min_height": null,
       "min_width": null,
       "object_fit": null,
       "object_position": null,
       "order": null,
       "overflow": null,
       "overflow_x": null,
       "overflow_y": null,
       "padding": null,
       "right": null,
       "top": null,
       "visibility": null,
       "width": null
      }
     },
     "47572eca94a54c589e2710e9f0119fce": {
      "model_module": "@jupyter-widgets/controls",
      "model_module_version": "1.5.0",
      "model_name": "DescriptionStyleModel",
      "state": {
       "_model_module": "@jupyter-widgets/controls",
       "_model_module_version": "1.5.0",
       "_model_name": "DescriptionStyleModel",
       "_view_count": null,
       "_view_module": "@jupyter-widgets/base",
       "_view_module_version": "1.2.0",
       "_view_name": "StyleView",
       "description_width": ""
      }
     },
     "485ba4530edd419ca3c70e076910c76e": {
      "model_module": "@jupyter-widgets/base",
      "model_module_version": "1.2.0",
      "model_name": "LayoutModel",
      "state": {
       "_model_module": "@jupyter-widgets/base",
       "_model_module_version": "1.2.0",
       "_model_name": "LayoutModel",
       "_view_count": null,
       "_view_module": "@jupyter-widgets/base",
       "_view_module_version": "1.2.0",
       "_view_name": "LayoutView",
       "align_content": null,
       "align_items": null,
       "align_self": null,
       "border": null,
       "bottom": null,
       "display": null,
       "flex": null,
       "flex_flow": null,
       "grid_area": null,
       "grid_auto_columns": null,
       "grid_auto_flow": null,
       "grid_auto_rows": null,
       "grid_column": null,
       "grid_gap": null,
       "grid_row": null,
       "grid_template_areas": null,
       "grid_template_columns": null,
       "grid_template_rows": null,
       "height": null,
       "justify_content": null,
       "justify_items": null,
       "left": null,
       "margin": null,
       "max_height": null,
       "max_width": null,
       "min_height": null,
       "min_width": null,
       "object_fit": null,
       "object_position": null,
       "order": null,
       "overflow": null,
       "overflow_x": null,
       "overflow_y": null,
       "padding": null,
       "right": null,
       "top": null,
       "visibility": null,
       "width": null
      }
     },
     "4e7c57e83f8b4a38a12bbdf1c01b1f4c": {
      "model_module": "@jupyter-widgets/controls",
      "model_module_version": "1.5.0",
      "model_name": "FloatProgressModel",
      "state": {
       "_dom_classes": [],
       "_model_module": "@jupyter-widgets/controls",
       "_model_module_version": "1.5.0",
       "_model_name": "FloatProgressModel",
       "_view_count": null,
       "_view_module": "@jupyter-widgets/controls",
       "_view_module_version": "1.5.0",
       "_view_name": "ProgressView",
       "bar_style": "success",
       "description": "",
       "description_tooltip": null,
       "layout": "IPY_MODEL_8f38a30812c14e6e9a2c04278a6b1b14",
       "max": 20,
       "min": 0,
       "orientation": "horizontal",
       "style": "IPY_MODEL_2a456105ca80480d986bbc2603ce6180",
       "value": 20
      }
     },
     "5048302c76cf470ca57b57891ea6ea40": {
      "model_module": "@jupyter-widgets/controls",
      "model_module_version": "1.5.0",
      "model_name": "ProgressStyleModel",
      "state": {
       "_model_module": "@jupyter-widgets/controls",
       "_model_module_version": "1.5.0",
       "_model_name": "ProgressStyleModel",
       "_view_count": null,
       "_view_module": "@jupyter-widgets/base",
       "_view_module_version": "1.2.0",
       "_view_name": "StyleView",
       "bar_color": null,
       "description_width": ""
      }
     },
     "52fb828bde954dd797b50c9b8f19fe1f": {
      "model_module": "@jupyter-widgets/base",
      "model_module_version": "1.2.0",
      "model_name": "LayoutModel",
      "state": {
       "_model_module": "@jupyter-widgets/base",
       "_model_module_version": "1.2.0",
       "_model_name": "LayoutModel",
       "_view_count": null,
       "_view_module": "@jupyter-widgets/base",
       "_view_module_version": "1.2.0",
       "_view_name": "LayoutView",
       "align_content": null,
       "align_items": null,
       "align_self": null,
       "border": null,
       "bottom": null,
       "display": null,
       "flex": null,
       "flex_flow": null,
       "grid_area": null,
       "grid_auto_columns": null,
       "grid_auto_flow": null,
       "grid_auto_rows": null,
       "grid_column": null,
       "grid_gap": null,
       "grid_row": null,
       "grid_template_areas": null,
       "grid_template_columns": null,
       "grid_template_rows": null,
       "height": null,
       "justify_content": null,
       "justify_items": null,
       "left": null,
       "margin": null,
       "max_height": null,
       "max_width": null,
       "min_height": null,
       "min_width": null,
       "object_fit": null,
       "object_position": null,
       "order": null,
       "overflow": null,
       "overflow_x": null,
       "overflow_y": null,
       "padding": null,
       "right": null,
       "top": null,
       "visibility": null,
       "width": null
      }
     },
     "577f840600024ace9d055d700bc62a2f": {
      "model_module": "@jupyter-widgets/base",
      "model_module_version": "1.2.0",
      "model_name": "LayoutModel",
      "state": {
       "_model_module": "@jupyter-widgets/base",
       "_model_module_version": "1.2.0",
       "_model_name": "LayoutModel",
       "_view_count": null,
       "_view_module": "@jupyter-widgets/base",
       "_view_module_version": "1.2.0",
       "_view_name": "LayoutView",
       "align_content": null,
       "align_items": null,
       "align_self": null,
       "border": null,
       "bottom": null,
       "display": null,
       "flex": null,
       "flex_flow": null,
       "grid_area": null,
       "grid_auto_columns": null,
       "grid_auto_flow": null,
       "grid_auto_rows": null,
       "grid_column": null,
       "grid_gap": null,
       "grid_row": null,
       "grid_template_areas": null,
       "grid_template_columns": null,
       "grid_template_rows": null,
       "height": null,
       "justify_content": null,
       "justify_items": null,
       "left": null,
       "margin": null,
       "max_height": null,
       "max_width": null,
       "min_height": null,
       "min_width": null,
       "object_fit": null,
       "object_position": null,
       "order": null,
       "overflow": null,
       "overflow_x": null,
       "overflow_y": null,
       "padding": null,
       "right": null,
       "top": null,
       "visibility": null,
       "width": null
      }
     },
     "58138a9e830b4047ac1437b51ae07fde": {
      "model_module": "@jupyter-widgets/controls",
      "model_module_version": "1.5.0",
      "model_name": "HTMLModel",
      "state": {
       "_dom_classes": [],
       "_model_module": "@jupyter-widgets/controls",
       "_model_module_version": "1.5.0",
       "_model_name": "HTMLModel",
       "_view_count": null,
       "_view_module": "@jupyter-widgets/controls",
       "_view_module_version": "1.5.0",
       "_view_name": "HTMLView",
       "description": "",
       "description_tooltip": null,
       "layout": "IPY_MODEL_6b45fcc154d3496994a205bd95573ca5",
       "placeholder": "​",
       "style": "IPY_MODEL_cd65b1bb71764b9cac22803ce0c54be9",
       "value": "100%"
      }
     },
     "596fc5d4aa4d40da9b7b3611a618767b": {
      "model_module": "@jupyter-widgets/controls",
      "model_module_version": "1.5.0",
      "model_name": "HTMLModel",
      "state": {
       "_dom_classes": [],
       "_model_module": "@jupyter-widgets/controls",
       "_model_module_version": "1.5.0",
       "_model_name": "HTMLModel",
       "_view_count": null,
       "_view_module": "@jupyter-widgets/controls",
       "_view_module_version": "1.5.0",
       "_view_name": "HTMLView",
       "description": "",
       "description_tooltip": null,
       "layout": "IPY_MODEL_049d2e0100f8477d8d595472eb93b06a",
       "placeholder": "​",
       "style": "IPY_MODEL_b61458039edb44f18325a82da2d8a3f9",
       "value": " 20/20 [00:00&lt;00:00, 603.79batch/s]"
      }
     },
     "59d6fe9ff8c7411eb66e170e6834ad86": {
      "model_module": "@jupyter-widgets/controls",
      "model_module_version": "1.5.0",
      "model_name": "DescriptionStyleModel",
      "state": {
       "_model_module": "@jupyter-widgets/controls",
       "_model_module_version": "1.5.0",
       "_model_name": "DescriptionStyleModel",
       "_view_count": null,
       "_view_module": "@jupyter-widgets/base",
       "_view_module_version": "1.2.0",
       "_view_name": "StyleView",
       "description_width": ""
      }
     },
     "5a43ef092fb44f54b12c89900312f43d": {
      "model_module": "@jupyter-widgets/controls",
      "model_module_version": "1.5.0",
      "model_name": "DescriptionStyleModel",
      "state": {
       "_model_module": "@jupyter-widgets/controls",
       "_model_module_version": "1.5.0",
       "_model_name": "DescriptionStyleModel",
       "_view_count": null,
       "_view_module": "@jupyter-widgets/base",
       "_view_module_version": "1.2.0",
       "_view_name": "StyleView",
       "description_width": ""
      }
     },
     "5d6623b67f4b410a921efea0ed04e0fb": {
      "model_module": "@jupyter-widgets/base",
      "model_module_version": "1.2.0",
      "model_name": "LayoutModel",
      "state": {
       "_model_module": "@jupyter-widgets/base",
       "_model_module_version": "1.2.0",
       "_model_name": "LayoutModel",
       "_view_count": null,
       "_view_module": "@jupyter-widgets/base",
       "_view_module_version": "1.2.0",
       "_view_name": "LayoutView",
       "align_content": null,
       "align_items": null,
       "align_self": null,
       "border": null,
       "bottom": null,
       "display": null,
       "flex": null,
       "flex_flow": null,
       "grid_area": null,
       "grid_auto_columns": null,
       "grid_auto_flow": null,
       "grid_auto_rows": null,
       "grid_column": null,
       "grid_gap": null,
       "grid_row": null,
       "grid_template_areas": null,
       "grid_template_columns": null,
       "grid_template_rows": null,
       "height": null,
       "justify_content": null,
       "justify_items": null,
       "left": null,
       "margin": null,
       "max_height": null,
       "max_width": null,
       "min_height": null,
       "min_width": null,
       "object_fit": null,
       "object_position": null,
       "order": null,
       "overflow": null,
       "overflow_x": null,
       "overflow_y": null,
       "padding": null,
       "right": null,
       "top": null,
       "visibility": null,
       "width": null
      }
     },
     "6054bd613a1d4a77ad9b2195d39a4da2": {
      "model_module": "@jupyter-widgets/controls",
      "model_module_version": "1.5.0",
      "model_name": "HTMLModel",
      "state": {
       "_dom_classes": [],
       "_model_module": "@jupyter-widgets/controls",
       "_model_module_version": "1.5.0",
       "_model_name": "HTMLModel",
       "_view_count": null,
       "_view_module": "@jupyter-widgets/controls",
       "_view_module_version": "1.5.0",
       "_view_name": "HTMLView",
       "description": "",
       "description_tooltip": null,
       "layout": "IPY_MODEL_b68418ce336844b88b1698b319e7f7d8",
       "placeholder": "​",
       "style": "IPY_MODEL_59d6fe9ff8c7411eb66e170e6834ad86",
       "value": "100%"
      }
     },
     "6202ffcd8d3e4516b808b540286e4521": {
      "model_module": "@jupyter-widgets/controls",
      "model_module_version": "1.5.0",
      "model_name": "HTMLModel",
      "state": {
       "_dom_classes": [],
       "_model_module": "@jupyter-widgets/controls",
       "_model_module_version": "1.5.0",
       "_model_name": "HTMLModel",
       "_view_count": null,
       "_view_module": "@jupyter-widgets/controls",
       "_view_module_version": "1.5.0",
       "_view_name": "HTMLView",
       "description": "",
       "description_tooltip": null,
       "layout": "IPY_MODEL_46eaf502438346a7bdb51bb811cfe7d0",
       "placeholder": "​",
       "style": "IPY_MODEL_a42bc2b54fe84d4eada2a3f2750c78b1",
       "value": "100%"
      }
     },
     "65258bbd62c748f28ffbb1646046d757": {
      "model_module": "@jupyter-widgets/base",
      "model_module_version": "1.2.0",
      "model_name": "LayoutModel",
      "state": {
       "_model_module": "@jupyter-widgets/base",
       "_model_module_version": "1.2.0",
       "_model_name": "LayoutModel",
       "_view_count": null,
       "_view_module": "@jupyter-widgets/base",
       "_view_module_version": "1.2.0",
       "_view_name": "LayoutView",
       "align_content": null,
       "align_items": null,
       "align_self": null,
       "border": null,
       "bottom": null,
       "display": null,
       "flex": null,
       "flex_flow": null,
       "grid_area": null,
       "grid_auto_columns": null,
       "grid_auto_flow": null,
       "grid_auto_rows": null,
       "grid_column": null,
       "grid_gap": null,
       "grid_row": null,
       "grid_template_areas": null,
       "grid_template_columns": null,
       "grid_template_rows": null,
       "height": null,
       "justify_content": null,
       "justify_items": null,
       "left": null,
       "margin": null,
       "max_height": null,
       "max_width": null,
       "min_height": null,
       "min_width": null,
       "object_fit": null,
       "object_position": null,
       "order": null,
       "overflow": null,
       "overflow_x": null,
       "overflow_y": null,
       "padding": null,
       "right": null,
       "top": null,
       "visibility": null,
       "width": null
      }
     },
     "671d594385104633b05cab0842f6aebf": {
      "model_module": "@jupyter-widgets/controls",
      "model_module_version": "1.5.0",
      "model_name": "HTMLModel",
      "state": {
       "_dom_classes": [],
       "_model_module": "@jupyter-widgets/controls",
       "_model_module_version": "1.5.0",
       "_model_name": "HTMLModel",
       "_view_count": null,
       "_view_module": "@jupyter-widgets/controls",
       "_view_module_version": "1.5.0",
       "_view_name": "HTMLView",
       "description": "",
       "description_tooltip": null,
       "layout": "IPY_MODEL_915be8a559fb40a7825fbc7f4c9f0ac6",
       "placeholder": "​",
       "style": "IPY_MODEL_016da6dc7cf24dc0b02766b7447df6a4",
       "value": " 20/20 [00:00&lt;00:00,  4.25batch/s]"
      }
     },
     "679e2e4c98c34c5096112cfe23a78a95": {
      "model_module": "@jupyter-widgets/controls",
      "model_module_version": "1.5.0",
      "model_name": "ProgressStyleModel",
      "state": {
       "_model_module": "@jupyter-widgets/controls",
       "_model_module_version": "1.5.0",
       "_model_name": "ProgressStyleModel",
       "_view_count": null,
       "_view_module": "@jupyter-widgets/base",
       "_view_module_version": "1.2.0",
       "_view_name": "StyleView",
       "bar_color": null,
       "description_width": ""
      }
     },
     "6b45fcc154d3496994a205bd95573ca5": {
      "model_module": "@jupyter-widgets/base",
      "model_module_version": "1.2.0",
      "model_name": "LayoutModel",
      "state": {
       "_model_module": "@jupyter-widgets/base",
       "_model_module_version": "1.2.0",
       "_model_name": "LayoutModel",
       "_view_count": null,
       "_view_module": "@jupyter-widgets/base",
       "_view_module_version": "1.2.0",
       "_view_name": "LayoutView",
       "align_content": null,
       "align_items": null,
       "align_self": null,
       "border": null,
       "bottom": null,
       "display": null,
       "flex": null,
       "flex_flow": null,
       "grid_area": null,
       "grid_auto_columns": null,
       "grid_auto_flow": null,
       "grid_auto_rows": null,
       "grid_column": null,
       "grid_gap": null,
       "grid_row": null,
       "grid_template_areas": null,
       "grid_template_columns": null,
       "grid_template_rows": null,
       "height": null,
       "justify_content": null,
       "justify_items": null,
       "left": null,
       "margin": null,
       "max_height": null,
       "max_width": null,
       "min_height": null,
       "min_width": null,
       "object_fit": null,
       "object_position": null,
       "order": null,
       "overflow": null,
       "overflow_x": null,
       "overflow_y": null,
       "padding": null,
       "right": null,
       "top": null,
       "visibility": null,
       "width": null
      }
     },
     "717e77b6a36a43a6a30741784e48ad9d": {
      "model_module": "@jupyter-widgets/controls",
      "model_module_version": "1.5.0",
      "model_name": "HBoxModel",
      "state": {
       "_dom_classes": [],
       "_model_module": "@jupyter-widgets/controls",
       "_model_module_version": "1.5.0",
       "_model_name": "HBoxModel",
       "_view_count": null,
       "_view_module": "@jupyter-widgets/controls",
       "_view_module_version": "1.5.0",
       "_view_name": "HBoxView",
       "box_style": "",
       "children": [
        "IPY_MODEL_7cc67c68557645b4b52eefef7fe3bea6",
        "IPY_MODEL_dda94b4a741d46e79a9ff321c3621078",
        "IPY_MODEL_87a8ada34801450083c94fe3376def2d"
       ],
       "layout": "IPY_MODEL_b46f2bf4e67c4c64b94c16956015d8e1"
      }
     },
     "74e574d470b040b79ca1dbea31202ef0": {
      "model_module": "@jupyter-widgets/base",
      "model_module_version": "1.2.0",
      "model_name": "LayoutModel",
      "state": {
       "_model_module": "@jupyter-widgets/base",
       "_model_module_version": "1.2.0",
       "_model_name": "LayoutModel",
       "_view_count": null,
       "_view_module": "@jupyter-widgets/base",
       "_view_module_version": "1.2.0",
       "_view_name": "LayoutView",
       "align_content": null,
       "align_items": null,
       "align_self": null,
       "border": null,
       "bottom": null,
       "display": null,
       "flex": null,
       "flex_flow": null,
       "grid_area": null,
       "grid_auto_columns": null,
       "grid_auto_flow": null,
       "grid_auto_rows": null,
       "grid_column": null,
       "grid_gap": null,
       "grid_row": null,
       "grid_template_areas": null,
       "grid_template_columns": null,
       "grid_template_rows": null,
       "height": null,
       "justify_content": null,
       "justify_items": null,
       "left": null,
       "margin": null,
       "max_height": null,
       "max_width": null,
       "min_height": null,
       "min_width": null,
       "object_fit": null,
       "object_position": null,
       "order": null,
       "overflow": null,
       "overflow_x": null,
       "overflow_y": null,
       "padding": null,
       "right": null,
       "top": null,
       "visibility": null,
       "width": null
      }
     },
     "7579a40565df42d5ad7f582be5606b34": {
      "model_module": "@jupyter-widgets/controls",
      "model_module_version": "1.5.0",
      "model_name": "HBoxModel",
      "state": {
       "_dom_classes": [],
       "_model_module": "@jupyter-widgets/controls",
       "_model_module_version": "1.5.0",
       "_model_name": "HBoxModel",
       "_view_count": null,
       "_view_module": "@jupyter-widgets/controls",
       "_view_module_version": "1.5.0",
       "_view_name": "HBoxView",
       "box_style": "",
       "children": [
        "IPY_MODEL_7fce87b3e6ed4072bcd6dae517884024",
        "IPY_MODEL_ac1e415a04ff4d17b0d6ff799d644e7f",
        "IPY_MODEL_7eb90908b9e740d2ae73e4712d4c64ff"
       ],
       "layout": "IPY_MODEL_c8940dbf51f547ee800b5b3a7e1a9a3c"
      }
     },
     "7730ea538d9c49b08c0213d62a906f88": {
      "model_module": "@jupyter-widgets/controls",
      "model_module_version": "1.5.0",
      "model_name": "FloatProgressModel",
      "state": {
       "_dom_classes": [],
       "_model_module": "@jupyter-widgets/controls",
       "_model_module_version": "1.5.0",
       "_model_name": "FloatProgressModel",
       "_view_count": null,
       "_view_module": "@jupyter-widgets/controls",
       "_view_module_version": "1.5.0",
       "_view_name": "ProgressView",
       "bar_style": "success",
       "description": "",
       "description_tooltip": null,
       "layout": "IPY_MODEL_a93184498d0c4291abc45a65429d11da",
       "max": 20,
       "min": 0,
       "orientation": "horizontal",
       "style": "IPY_MODEL_cb77948e49824ac7930f1972cc9672cf",
       "value": 20
      }
     },
     "7b29dd28a7274610ac66dc7b359a091f": {
      "model_module": "@jupyter-widgets/base",
      "model_module_version": "1.2.0",
      "model_name": "LayoutModel",
      "state": {
       "_model_module": "@jupyter-widgets/base",
       "_model_module_version": "1.2.0",
       "_model_name": "LayoutModel",
       "_view_count": null,
       "_view_module": "@jupyter-widgets/base",
       "_view_module_version": "1.2.0",
       "_view_name": "LayoutView",
       "align_content": null,
       "align_items": null,
       "align_self": null,
       "border": null,
       "bottom": null,
       "display": null,
       "flex": null,
       "flex_flow": null,
       "grid_area": null,
       "grid_auto_columns": null,
       "grid_auto_flow": null,
       "grid_auto_rows": null,
       "grid_column": null,
       "grid_gap": null,
       "grid_row": null,
       "grid_template_areas": null,
       "grid_template_columns": null,
       "grid_template_rows": null,
       "height": null,
       "justify_content": null,
       "justify_items": null,
       "left": null,
       "margin": null,
       "max_height": null,
       "max_width": null,
       "min_height": null,
       "min_width": null,
       "object_fit": null,
       "object_position": null,
       "order": null,
       "overflow": null,
       "overflow_x": null,
       "overflow_y": null,
       "padding": null,
       "right": null,
       "top": null,
       "visibility": null,
       "width": null
      }
     },
     "7cc67c68557645b4b52eefef7fe3bea6": {
      "model_module": "@jupyter-widgets/controls",
      "model_module_version": "1.5.0",
      "model_name": "HTMLModel",
      "state": {
       "_dom_classes": [],
       "_model_module": "@jupyter-widgets/controls",
       "_model_module_version": "1.5.0",
       "_model_name": "HTMLModel",
       "_view_count": null,
       "_view_module": "@jupyter-widgets/controls",
       "_view_module_version": "1.5.0",
       "_view_name": "HTMLView",
       "description": "",
       "description_tooltip": null,
       "layout": "IPY_MODEL_261397c73a74406fbcd672aa37e94447",
       "placeholder": "​",
       "style": "IPY_MODEL_96cdf339474e4bbc859582a490fce0ef",
       "value": "100%"
      }
     },
     "7eb90908b9e740d2ae73e4712d4c64ff": {
      "model_module": "@jupyter-widgets/controls",
      "model_module_version": "1.5.0",
      "model_name": "HTMLModel",
      "state": {
       "_dom_classes": [],
       "_model_module": "@jupyter-widgets/controls",
       "_model_module_version": "1.5.0",
       "_model_name": "HTMLModel",
       "_view_count": null,
       "_view_module": "@jupyter-widgets/controls",
       "_view_module_version": "1.5.0",
       "_view_name": "HTMLView",
       "description": "",
       "description_tooltip": null,
       "layout": "IPY_MODEL_74e574d470b040b79ca1dbea31202ef0",
       "placeholder": "​",
       "style": "IPY_MODEL_27b3bb527031445ca9f008017c95c38a",
       "value": " 20/20 [00:00&lt;00:00, 603.17batch/s]"
      }
     },
     "7fce87b3e6ed4072bcd6dae517884024": {
      "model_module": "@jupyter-widgets/controls",
      "model_module_version": "1.5.0",
      "model_name": "HTMLModel",
      "state": {
       "_dom_classes": [],
       "_model_module": "@jupyter-widgets/controls",
       "_model_module_version": "1.5.0",
       "_model_name": "HTMLModel",
       "_view_count": null,
       "_view_module": "@jupyter-widgets/controls",
       "_view_module_version": "1.5.0",
       "_view_name": "HTMLView",
       "description": "",
       "description_tooltip": null,
       "layout": "IPY_MODEL_5d6623b67f4b410a921efea0ed04e0fb",
       "placeholder": "​",
       "style": "IPY_MODEL_5a43ef092fb44f54b12c89900312f43d",
       "value": "100%"
      }
     },
     "87a8ada34801450083c94fe3376def2d": {
      "model_module": "@jupyter-widgets/controls",
      "model_module_version": "1.5.0",
      "model_name": "HTMLModel",
      "state": {
       "_dom_classes": [],
       "_model_module": "@jupyter-widgets/controls",
       "_model_module_version": "1.5.0",
       "_model_name": "HTMLModel",
       "_view_count": null,
       "_view_module": "@jupyter-widgets/controls",
       "_view_module_version": "1.5.0",
       "_view_name": "HTMLView",
       "description": "",
       "description_tooltip": null,
       "layout": "IPY_MODEL_7b29dd28a7274610ac66dc7b359a091f",
       "placeholder": "​",
       "style": "IPY_MODEL_a502110510cd44e8a7711e5e8fb521a9",
       "value": " 20/20 [00:00&lt;00:00, 578.05batch/s]"
      }
     },
     "8bf1e0c9682c45498895cc2e49a82e33": {
      "model_module": "@jupyter-widgets/controls",
      "model_module_version": "1.5.0",
      "model_name": "DescriptionStyleModel",
      "state": {
       "_model_module": "@jupyter-widgets/controls",
       "_model_module_version": "1.5.0",
       "_model_name": "DescriptionStyleModel",
       "_view_count": null,
       "_view_module": "@jupyter-widgets/base",
       "_view_module_version": "1.2.0",
       "_view_name": "StyleView",
       "description_width": ""
      }
     },
     "8e5e6d61490f4e89aaae1d519f3960c0": {
      "model_module": "@jupyter-widgets/controls",
      "model_module_version": "1.5.0",
      "model_name": "HTMLModel",
      "state": {
       "_dom_classes": [],
       "_model_module": "@jupyter-widgets/controls",
       "_model_module_version": "1.5.0",
       "_model_name": "HTMLModel",
       "_view_count": null,
       "_view_module": "@jupyter-widgets/controls",
       "_view_module_version": "1.5.0",
       "_view_name": "HTMLView",
       "description": "",
       "description_tooltip": null,
       "layout": "IPY_MODEL_a1d0cbc50df44b0e826e52d969fc9efe",
       "placeholder": "​",
       "style": "IPY_MODEL_41a3197ad1a64914ab13e155ce3f88a3",
       "value": " 20/20 [00:00&lt;00:00, 586.78batch/s]"
      }
     },
     "8f38a30812c14e6e9a2c04278a6b1b14": {
      "model_module": "@jupyter-widgets/base",
      "model_module_version": "1.2.0",
      "model_name": "LayoutModel",
      "state": {
       "_model_module": "@jupyter-widgets/base",
       "_model_module_version": "1.2.0",
       "_model_name": "LayoutModel",
       "_view_count": null,
       "_view_module": "@jupyter-widgets/base",
       "_view_module_version": "1.2.0",
       "_view_name": "LayoutView",
       "align_content": null,
       "align_items": null,
       "align_self": null,
       "border": null,
       "bottom": null,
       "display": null,
       "flex": null,
       "flex_flow": null,
       "grid_area": null,
       "grid_auto_columns": null,
       "grid_auto_flow": null,
       "grid_auto_rows": null,
       "grid_column": null,
       "grid_gap": null,
       "grid_row": null,
       "grid_template_areas": null,
       "grid_template_columns": null,
       "grid_template_rows": null,
       "height": null,
       "justify_content": null,
       "justify_items": null,
       "left": null,
       "margin": null,
       "max_height": null,
       "max_width": null,
       "min_height": null,
       "min_width": null,
       "object_fit": null,
       "object_position": null,
       "order": null,
       "overflow": null,
       "overflow_x": null,
       "overflow_y": null,
       "padding": null,
       "right": null,
       "top": null,
       "visibility": null,
       "width": null
      }
     },
     "915be8a559fb40a7825fbc7f4c9f0ac6": {
      "model_module": "@jupyter-widgets/base",
      "model_module_version": "1.2.0",
      "model_name": "LayoutModel",
      "state": {
       "_model_module": "@jupyter-widgets/base",
       "_model_module_version": "1.2.0",
       "_model_name": "LayoutModel",
       "_view_count": null,
       "_view_module": "@jupyter-widgets/base",
       "_view_module_version": "1.2.0",
       "_view_name": "LayoutView",
       "align_content": null,
       "align_items": null,
       "align_self": null,
       "border": null,
       "bottom": null,
       "display": null,
       "flex": null,
       "flex_flow": null,
       "grid_area": null,
       "grid_auto_columns": null,
       "grid_auto_flow": null,
       "grid_auto_rows": null,
       "grid_column": null,
       "grid_gap": null,
       "grid_row": null,
       "grid_template_areas": null,
       "grid_template_columns": null,
       "grid_template_rows": null,
       "height": null,
       "justify_content": null,
       "justify_items": null,
       "left": null,
       "margin": null,
       "max_height": null,
       "max_width": null,
       "min_height": null,
       "min_width": null,
       "object_fit": null,
       "object_position": null,
       "order": null,
       "overflow": null,
       "overflow_x": null,
       "overflow_y": null,
       "padding": null,
       "right": null,
       "top": null,
       "visibility": null,
       "width": null
      }
     },
     "917a7f94d4624f4596322b80e7e90da4": {
      "model_module": "@jupyter-widgets/controls",
      "model_module_version": "1.5.0",
      "model_name": "HTMLModel",
      "state": {
       "_dom_classes": [],
       "_model_module": "@jupyter-widgets/controls",
       "_model_module_version": "1.5.0",
       "_model_name": "HTMLModel",
       "_view_count": null,
       "_view_module": "@jupyter-widgets/controls",
       "_view_module_version": "1.5.0",
       "_view_name": "HTMLView",
       "description": "",
       "description_tooltip": null,
       "layout": "IPY_MODEL_39b1e9ad42af4cb4ad3c1d5c3af4c8c3",
       "placeholder": "​",
       "style": "IPY_MODEL_fbd607d25bcd4f419a44910029819f0d",
       "value": "100%"
      }
     },
     "930a989fef904f40b4e646d082f724a5": {
      "model_module": "@jupyter-widgets/controls",
      "model_module_version": "1.5.0",
      "model_name": "ProgressStyleModel",
      "state": {
       "_model_module": "@jupyter-widgets/controls",
       "_model_module_version": "1.5.0",
       "_model_name": "ProgressStyleModel",
       "_view_count": null,
       "_view_module": "@jupyter-widgets/base",
       "_view_module_version": "1.2.0",
       "_view_name": "StyleView",
       "bar_color": null,
       "description_width": ""
      }
     },
     "9369a2f7416f4ee386b5c4d0fdc17bbf": {
      "model_module": "@jupyter-widgets/controls",
      "model_module_version": "1.5.0",
      "model_name": "FloatProgressModel",
      "state": {
       "_dom_classes": [],
       "_model_module": "@jupyter-widgets/controls",
       "_model_module_version": "1.5.0",
       "_model_name": "FloatProgressModel",
       "_view_count": null,
       "_view_module": "@jupyter-widgets/controls",
       "_view_module_version": "1.5.0",
       "_view_name": "ProgressView",
       "bar_style": "success",
       "description": "",
       "description_tooltip": null,
       "layout": "IPY_MODEL_cec60ce82a674c30a673cbf539fe692a",
       "max": 20,
       "min": 0,
       "orientation": "horizontal",
       "style": "IPY_MODEL_ba645db12a894aa1b8fb8f35097597d5",
       "value": 20
      }
     },
     "9674cc44d56b40f7a61c2cb8897ae6db": {
      "model_module": "@jupyter-widgets/controls",
      "model_module_version": "1.5.0",
      "model_name": "HTMLModel",
      "state": {
       "_dom_classes": [],
       "_model_module": "@jupyter-widgets/controls",
       "_model_module_version": "1.5.0",
       "_model_name": "HTMLModel",
       "_view_count": null,
       "_view_module": "@jupyter-widgets/controls",
       "_view_module_version": "1.5.0",
       "_view_name": "HTMLView",
       "description": "",
       "description_tooltip": null,
       "layout": "IPY_MODEL_3ead7cabad724802824c0de669924ebe",
       "placeholder": "​",
       "style": "IPY_MODEL_e80349b7af8a415dad91384b38311e0d",
       "value": "100%"
      }
     },
     "96afad7f977641dbbd14f40bb05608e4": {
      "model_module": "@jupyter-widgets/base",
      "model_module_version": "1.2.0",
      "model_name": "LayoutModel",
      "state": {
       "_model_module": "@jupyter-widgets/base",
       "_model_module_version": "1.2.0",
       "_model_name": "LayoutModel",
       "_view_count": null,
       "_view_module": "@jupyter-widgets/base",
       "_view_module_version": "1.2.0",
       "_view_name": "LayoutView",
       "align_content": null,
       "align_items": null,
       "align_self": null,
       "border": null,
       "bottom": null,
       "display": null,
       "flex": null,
       "flex_flow": null,
       "grid_area": null,
       "grid_auto_columns": null,
       "grid_auto_flow": null,
       "grid_auto_rows": null,
       "grid_column": null,
       "grid_gap": null,
       "grid_row": null,
       "grid_template_areas": null,
       "grid_template_columns": null,
       "grid_template_rows": null,
       "height": null,
       "justify_content": null,
       "justify_items": null,
       "left": null,
       "margin": null,
       "max_height": null,
       "max_width": null,
       "min_height": null,
       "min_width": null,
       "object_fit": null,
       "object_position": null,
       "order": null,
       "overflow": null,
       "overflow_x": null,
       "overflow_y": null,
       "padding": null,
       "right": null,
       "top": null,
       "visibility": null,
       "width": null
      }
     },
     "96cdf339474e4bbc859582a490fce0ef": {
      "model_module": "@jupyter-widgets/controls",
      "model_module_version": "1.5.0",
      "model_name": "DescriptionStyleModel",
      "state": {
       "_model_module": "@jupyter-widgets/controls",
       "_model_module_version": "1.5.0",
       "_model_name": "DescriptionStyleModel",
       "_view_count": null,
       "_view_module": "@jupyter-widgets/base",
       "_view_module_version": "1.2.0",
       "_view_name": "StyleView",
       "description_width": ""
      }
     },
     "96dd86a188614a63997197133d2a1b0d": {
      "model_module": "@jupyter-widgets/controls",
      "model_module_version": "1.5.0",
      "model_name": "DescriptionStyleModel",
      "state": {
       "_model_module": "@jupyter-widgets/controls",
       "_model_module_version": "1.5.0",
       "_model_name": "DescriptionStyleModel",
       "_view_count": null,
       "_view_module": "@jupyter-widgets/base",
       "_view_module_version": "1.2.0",
       "_view_name": "StyleView",
       "description_width": ""
      }
     },
     "97b7b5874f2941508bf2a306734202dc": {
      "model_module": "@jupyter-widgets/controls",
      "model_module_version": "1.5.0",
      "model_name": "HTMLModel",
      "state": {
       "_dom_classes": [],
       "_model_module": "@jupyter-widgets/controls",
       "_model_module_version": "1.5.0",
       "_model_name": "HTMLModel",
       "_view_count": null,
       "_view_module": "@jupyter-widgets/controls",
       "_view_module_version": "1.5.0",
       "_view_name": "HTMLView",
       "description": "",
       "description_tooltip": null,
       "layout": "IPY_MODEL_1841f15fa55a4ed3b35dbe1c8cc5ae4f",
       "placeholder": "​",
       "style": "IPY_MODEL_31cb91fea9a24516bd0689454fcea08a",
       "value": " 20/20 [00:00&lt;00:00, 536.60batch/s]"
      }
     },
     "98fdadca116643f7b00284175588919b": {
      "model_module": "@jupyter-widgets/controls",
      "model_module_version": "1.5.0",
      "model_name": "ProgressStyleModel",
      "state": {
       "_model_module": "@jupyter-widgets/controls",
       "_model_module_version": "1.5.0",
       "_model_name": "ProgressStyleModel",
       "_view_count": null,
       "_view_module": "@jupyter-widgets/base",
       "_view_module_version": "1.2.0",
       "_view_name": "StyleView",
       "bar_color": null,
       "description_width": ""
      }
     },
     "99d1f49d227d465eae8a2434ce5612c1": {
      "model_module": "@jupyter-widgets/controls",
      "model_module_version": "1.5.0",
      "model_name": "FloatProgressModel",
      "state": {
       "_dom_classes": [],
       "_model_module": "@jupyter-widgets/controls",
       "_model_module_version": "1.5.0",
       "_model_name": "FloatProgressModel",
       "_view_count": null,
       "_view_module": "@jupyter-widgets/controls",
       "_view_module_version": "1.5.0",
       "_view_name": "ProgressView",
       "bar_style": "success",
       "description": "",
       "description_tooltip": null,
       "layout": "IPY_MODEL_9c3dd8cae62b4cada7cd48d0e85c25b2",
       "max": 20,
       "min": 0,
       "orientation": "horizontal",
       "style": "IPY_MODEL_930a989fef904f40b4e646d082f724a5",
       "value": 20
      }
     },
     "9b9c89bb241a49d2b892693b99ef5a29": {
      "model_module": "@jupyter-widgets/controls",
      "model_module_version": "1.5.0",
      "model_name": "HBoxModel",
      "state": {
       "_dom_classes": [],
       "_model_module": "@jupyter-widgets/controls",
       "_model_module_version": "1.5.0",
       "_model_name": "HBoxModel",
       "_view_count": null,
       "_view_module": "@jupyter-widgets/controls",
       "_view_module_version": "1.5.0",
       "_view_name": "HBoxView",
       "box_style": "",
       "children": [
        "IPY_MODEL_128d26f7f49e4a389b80b74a3a28d349",
        "IPY_MODEL_99d1f49d227d465eae8a2434ce5612c1",
        "IPY_MODEL_1a2b3f6cdecf4261801126ebe096b98e"
       ],
       "layout": "IPY_MODEL_d11f5a470cf3497b8131906d6f24e13c"
      }
     },
     "9bb197ed521d4e9cadad891516db5349": {
      "model_module": "@jupyter-widgets/base",
      "model_module_version": "1.2.0",
      "model_name": "LayoutModel",
      "state": {
       "_model_module": "@jupyter-widgets/base",
       "_model_module_version": "1.2.0",
       "_model_name": "LayoutModel",
       "_view_count": null,
       "_view_module": "@jupyter-widgets/base",
       "_view_module_version": "1.2.0",
       "_view_name": "LayoutView",
       "align_content": null,
       "align_items": null,
       "align_self": null,
       "border": null,
       "bottom": null,
       "display": null,
       "flex": null,
       "flex_flow": null,
       "grid_area": null,
       "grid_auto_columns": null,
       "grid_auto_flow": null,
       "grid_auto_rows": null,
       "grid_column": null,
       "grid_gap": null,
       "grid_row": null,
       "grid_template_areas": null,
       "grid_template_columns": null,
       "grid_template_rows": null,
       "height": null,
       "justify_content": null,
       "justify_items": null,
       "left": null,
       "margin": null,
       "max_height": null,
       "max_width": null,
       "min_height": null,
       "min_width": null,
       "object_fit": null,
       "object_position": null,
       "order": null,
       "overflow": null,
       "overflow_x": null,
       "overflow_y": null,
       "padding": null,
       "right": null,
       "top": null,
       "visibility": null,
       "width": null
      }
     },
     "9c3dd8cae62b4cada7cd48d0e85c25b2": {
      "model_module": "@jupyter-widgets/base",
      "model_module_version": "1.2.0",
      "model_name": "LayoutModel",
      "state": {
       "_model_module": "@jupyter-widgets/base",
       "_model_module_version": "1.2.0",
       "_model_name": "LayoutModel",
       "_view_count": null,
       "_view_module": "@jupyter-widgets/base",
       "_view_module_version": "1.2.0",
       "_view_name": "LayoutView",
       "align_content": null,
       "align_items": null,
       "align_self": null,
       "border": null,
       "bottom": null,
       "display": null,
       "flex": null,
       "flex_flow": null,
       "grid_area": null,
       "grid_auto_columns": null,
       "grid_auto_flow": null,
       "grid_auto_rows": null,
       "grid_column": null,
       "grid_gap": null,
       "grid_row": null,
       "grid_template_areas": null,
       "grid_template_columns": null,
       "grid_template_rows": null,
       "height": null,
       "justify_content": null,
       "justify_items": null,
       "left": null,
       "margin": null,
       "max_height": null,
       "max_width": null,
       "min_height": null,
       "min_width": null,
       "object_fit": null,
       "object_position": null,
       "order": null,
       "overflow": null,
       "overflow_x": null,
       "overflow_y": null,
       "padding": null,
       "right": null,
       "top": null,
       "visibility": null,
       "width": null
      }
     },
     "9f09a0ab8cae4b0d9188204c8471b6ef": {
      "model_module": "@jupyter-widgets/controls",
      "model_module_version": "1.5.0",
      "model_name": "HTMLModel",
      "state": {
       "_dom_classes": [],
       "_model_module": "@jupyter-widgets/controls",
       "_model_module_version": "1.5.0",
       "_model_name": "HTMLModel",
       "_view_count": null,
       "_view_module": "@jupyter-widgets/controls",
       "_view_module_version": "1.5.0",
       "_view_name": "HTMLView",
       "description": "",
       "description_tooltip": null,
       "layout": "IPY_MODEL_577f840600024ace9d055d700bc62a2f",
       "placeholder": "​",
       "style": "IPY_MODEL_adcd511f43324653b68d7952462bda6b",
       "value": " 20/20 [00:00&lt;00:00, 592.85batch/s]"
      }
     },
     "a044dc1903394ffe9cd3967e87c028e8": {
      "model_module": "@jupyter-widgets/controls",
      "model_module_version": "1.5.0",
      "model_name": "HBoxModel",
      "state": {
       "_dom_classes": [],
       "_model_module": "@jupyter-widgets/controls",
       "_model_module_version": "1.5.0",
       "_model_name": "HBoxModel",
       "_view_count": null,
       "_view_module": "@jupyter-widgets/controls",
       "_view_module_version": "1.5.0",
       "_view_name": "HBoxView",
       "box_style": "",
       "children": [
        "IPY_MODEL_6202ffcd8d3e4516b808b540286e4521",
        "IPY_MODEL_c64f6e8a413e43b1895f2ae58afe7920",
        "IPY_MODEL_a9d3a00b56da44749710d4d46c4aa4ea"
       ],
       "layout": "IPY_MODEL_3072e15287a2461d901daa30cae20d5c"
      }
     },
     "a1d0cbc50df44b0e826e52d969fc9efe": {
      "model_module": "@jupyter-widgets/base",
      "model_module_version": "1.2.0",
      "model_name": "LayoutModel",
      "state": {
       "_model_module": "@jupyter-widgets/base",
       "_model_module_version": "1.2.0",
       "_model_name": "LayoutModel",
       "_view_count": null,
       "_view_module": "@jupyter-widgets/base",
       "_view_module_version": "1.2.0",
       "_view_name": "LayoutView",
       "align_content": null,
       "align_items": null,
       "align_self": null,
       "border": null,
       "bottom": null,
       "display": null,
       "flex": null,
       "flex_flow": null,
       "grid_area": null,
       "grid_auto_columns": null,
       "grid_auto_flow": null,
       "grid_auto_rows": null,
       "grid_column": null,
       "grid_gap": null,
       "grid_row": null,
       "grid_template_areas": null,
       "grid_template_columns": null,
       "grid_template_rows": null,
       "height": null,
       "justify_content": null,
       "justify_items": null,
       "left": null,
       "margin": null,
       "max_height": null,
       "max_width": null,
       "min_height": null,
       "min_width": null,
       "object_fit": null,
       "object_position": null,
       "order": null,
       "overflow": null,
       "overflow_x": null,
       "overflow_y": null,
       "padding": null,
       "right": null,
       "top": null,
       "visibility": null,
       "width": null
      }
     },
     "a42bc2b54fe84d4eada2a3f2750c78b1": {
      "model_module": "@jupyter-widgets/controls",
      "model_module_version": "1.5.0",
      "model_name": "DescriptionStyleModel",
      "state": {
       "_model_module": "@jupyter-widgets/controls",
       "_model_module_version": "1.5.0",
       "_model_name": "DescriptionStyleModel",
       "_view_count": null,
       "_view_module": "@jupyter-widgets/base",
       "_view_module_version": "1.2.0",
       "_view_name": "StyleView",
       "description_width": ""
      }
     },
     "a502110510cd44e8a7711e5e8fb521a9": {
      "model_module": "@jupyter-widgets/controls",
      "model_module_version": "1.5.0",
      "model_name": "DescriptionStyleModel",
      "state": {
       "_model_module": "@jupyter-widgets/controls",
       "_model_module_version": "1.5.0",
       "_model_name": "DescriptionStyleModel",
       "_view_count": null,
       "_view_module": "@jupyter-widgets/base",
       "_view_module_version": "1.2.0",
       "_view_name": "StyleView",
       "description_width": ""
      }
     },
     "a5cf31a67184462da80d716d74313f6d": {
      "model_module": "@jupyter-widgets/controls",
      "model_module_version": "1.5.0",
      "model_name": "HBoxModel",
      "state": {
       "_dom_classes": [],
       "_model_module": "@jupyter-widgets/controls",
       "_model_module_version": "1.5.0",
       "_model_name": "HBoxModel",
       "_view_count": null,
       "_view_module": "@jupyter-widgets/controls",
       "_view_module_version": "1.5.0",
       "_view_name": "HBoxView",
       "box_style": "",
       "children": [
        "IPY_MODEL_9674cc44d56b40f7a61c2cb8897ae6db",
        "IPY_MODEL_002f56d82ccc4c3a807cdce153619aa6",
        "IPY_MODEL_671d594385104633b05cab0842f6aebf"
       ],
       "layout": "IPY_MODEL_c568da823cd34a5bb420d7a6c6e2513e"
      }
     },
     "a695038619764c5382005492dc3b6c34": {
      "model_module": "@jupyter-widgets/controls",
      "model_module_version": "1.5.0",
      "model_name": "DescriptionStyleModel",
      "state": {
       "_model_module": "@jupyter-widgets/controls",
       "_model_module_version": "1.5.0",
       "_model_name": "DescriptionStyleModel",
       "_view_count": null,
       "_view_module": "@jupyter-widgets/base",
       "_view_module_version": "1.2.0",
       "_view_name": "StyleView",
       "description_width": ""
      }
     },
     "a93184498d0c4291abc45a65429d11da": {
      "model_module": "@jupyter-widgets/base",
      "model_module_version": "1.2.0",
      "model_name": "LayoutModel",
      "state": {
       "_model_module": "@jupyter-widgets/base",
       "_model_module_version": "1.2.0",
       "_model_name": "LayoutModel",
       "_view_count": null,
       "_view_module": "@jupyter-widgets/base",
       "_view_module_version": "1.2.0",
       "_view_name": "LayoutView",
       "align_content": null,
       "align_items": null,
       "align_self": null,
       "border": null,
       "bottom": null,
       "display": null,
       "flex": null,
       "flex_flow": null,
       "grid_area": null,
       "grid_auto_columns": null,
       "grid_auto_flow": null,
       "grid_auto_rows": null,
       "grid_column": null,
       "grid_gap": null,
       "grid_row": null,
       "grid_template_areas": null,
       "grid_template_columns": null,
       "grid_template_rows": null,
       "height": null,
       "justify_content": null,
       "justify_items": null,
       "left": null,
       "margin": null,
       "max_height": null,
       "max_width": null,
       "min_height": null,
       "min_width": null,
       "object_fit": null,
       "object_position": null,
       "order": null,
       "overflow": null,
       "overflow_x": null,
       "overflow_y": null,
       "padding": null,
       "right": null,
       "top": null,
       "visibility": null,
       "width": null
      }
     },
     "a9d3a00b56da44749710d4d46c4aa4ea": {
      "model_module": "@jupyter-widgets/controls",
      "model_module_version": "1.5.0",
      "model_name": "HTMLModel",
      "state": {
       "_dom_classes": [],
       "_model_module": "@jupyter-widgets/controls",
       "_model_module_version": "1.5.0",
       "_model_name": "HTMLModel",
       "_view_count": null,
       "_view_module": "@jupyter-widgets/controls",
       "_view_module_version": "1.5.0",
       "_view_name": "HTMLView",
       "description": "",
       "description_tooltip": null,
       "layout": "IPY_MODEL_9bb197ed521d4e9cadad891516db5349",
       "placeholder": "​",
       "style": "IPY_MODEL_aa5c85c6d002429ab7a8065d75099307",
       "value": " 20/20 [00:00&lt;00:00, 588.05batch/s]"
      }
     },
     "a9f0d5f1c0b641ca8609b7201859ea4d": {
      "model_module": "@jupyter-widgets/controls",
      "model_module_version": "1.5.0",
      "model_name": "ProgressStyleModel",
      "state": {
       "_model_module": "@jupyter-widgets/controls",
       "_model_module_version": "1.5.0",
       "_model_name": "ProgressStyleModel",
       "_view_count": null,
       "_view_module": "@jupyter-widgets/base",
       "_view_module_version": "1.2.0",
       "_view_name": "StyleView",
       "bar_color": null,
       "description_width": ""
      }
     },
     "aa5c85c6d002429ab7a8065d75099307": {
      "model_module": "@jupyter-widgets/controls",
      "model_module_version": "1.5.0",
      "model_name": "DescriptionStyleModel",
      "state": {
       "_model_module": "@jupyter-widgets/controls",
       "_model_module_version": "1.5.0",
       "_model_name": "DescriptionStyleModel",
       "_view_count": null,
       "_view_module": "@jupyter-widgets/base",
       "_view_module_version": "1.2.0",
       "_view_name": "StyleView",
       "description_width": ""
      }
     },
     "ac1e415a04ff4d17b0d6ff799d644e7f": {
      "model_module": "@jupyter-widgets/controls",
      "model_module_version": "1.5.0",
      "model_name": "FloatProgressModel",
      "state": {
       "_dom_classes": [],
       "_model_module": "@jupyter-widgets/controls",
       "_model_module_version": "1.5.0",
       "_model_name": "FloatProgressModel",
       "_view_count": null,
       "_view_module": "@jupyter-widgets/controls",
       "_view_module_version": "1.5.0",
       "_view_name": "ProgressView",
       "bar_style": "success",
       "description": "",
       "description_tooltip": null,
       "layout": "IPY_MODEL_3810968c9c424eeb85dcb03973873a65",
       "max": 20,
       "min": 0,
       "orientation": "horizontal",
       "style": "IPY_MODEL_a9f0d5f1c0b641ca8609b7201859ea4d",
       "value": 20
      }
     },
     "adcd511f43324653b68d7952462bda6b": {
      "model_module": "@jupyter-widgets/controls",
      "model_module_version": "1.5.0",
      "model_name": "DescriptionStyleModel",
      "state": {
       "_model_module": "@jupyter-widgets/controls",
       "_model_module_version": "1.5.0",
       "_model_name": "DescriptionStyleModel",
       "_view_count": null,
       "_view_module": "@jupyter-widgets/base",
       "_view_module_version": "1.2.0",
       "_view_name": "StyleView",
       "description_width": ""
      }
     },
     "b1a1884e976c4464ac9d634e46ba4d48": {
      "model_module": "@jupyter-widgets/controls",
      "model_module_version": "1.5.0",
      "model_name": "ProgressStyleModel",
      "state": {
       "_model_module": "@jupyter-widgets/controls",
       "_model_module_version": "1.5.0",
       "_model_name": "ProgressStyleModel",
       "_view_count": null,
       "_view_module": "@jupyter-widgets/base",
       "_view_module_version": "1.2.0",
       "_view_name": "StyleView",
       "bar_color": null,
       "description_width": ""
      }
     },
     "b260e4ef00a44111a9fa2419d8d65ff9": {
      "model_module": "@jupyter-widgets/controls",
      "model_module_version": "1.5.0",
      "model_name": "HBoxModel",
      "state": {
       "_dom_classes": [],
       "_model_module": "@jupyter-widgets/controls",
       "_model_module_version": "1.5.0",
       "_model_name": "HBoxModel",
       "_view_count": null,
       "_view_module": "@jupyter-widgets/controls",
       "_view_module_version": "1.5.0",
       "_view_name": "HBoxView",
       "box_style": "",
       "children": [
        "IPY_MODEL_6054bd613a1d4a77ad9b2195d39a4da2",
        "IPY_MODEL_cf9b3e1cb138470fbc00badf0d91b7f6",
        "IPY_MODEL_596fc5d4aa4d40da9b7b3611a618767b"
       ],
       "layout": "IPY_MODEL_b84cbc69dd1a4304b777b3601a6cc8ef"
      }
     },
     "b433f3bc3f22455797a19b36de4e3246": {
      "model_module": "@jupyter-widgets/base",
      "model_module_version": "1.2.0",
      "model_name": "LayoutModel",
      "state": {
       "_model_module": "@jupyter-widgets/base",
       "_model_module_version": "1.2.0",
       "_model_name": "LayoutModel",
       "_view_count": null,
       "_view_module": "@jupyter-widgets/base",
       "_view_module_version": "1.2.0",
       "_view_name": "LayoutView",
       "align_content": null,
       "align_items": null,
       "align_self": null,
       "border": null,
       "bottom": null,
       "display": null,
       "flex": null,
       "flex_flow": null,
       "grid_area": null,
       "grid_auto_columns": null,
       "grid_auto_flow": null,
       "grid_auto_rows": null,
       "grid_column": null,
       "grid_gap": null,
       "grid_row": null,
       "grid_template_areas": null,
       "grid_template_columns": null,
       "grid_template_rows": null,
       "height": null,
       "justify_content": null,
       "justify_items": null,
       "left": null,
       "margin": null,
       "max_height": null,
       "max_width": null,
       "min_height": null,
       "min_width": null,
       "object_fit": null,
       "object_position": null,
       "order": null,
       "overflow": null,
       "overflow_x": null,
       "overflow_y": null,
       "padding": null,
       "right": null,
       "top": null,
       "visibility": null,
       "width": null
      }
     },
     "b46f2bf4e67c4c64b94c16956015d8e1": {
      "model_module": "@jupyter-widgets/base",
      "model_module_version": "1.2.0",
      "model_name": "LayoutModel",
      "state": {
       "_model_module": "@jupyter-widgets/base",
       "_model_module_version": "1.2.0",
       "_model_name": "LayoutModel",
       "_view_count": null,
       "_view_module": "@jupyter-widgets/base",
       "_view_module_version": "1.2.0",
       "_view_name": "LayoutView",
       "align_content": null,
       "align_items": null,
       "align_self": null,
       "border": null,
       "bottom": null,
       "display": null,
       "flex": null,
       "flex_flow": null,
       "grid_area": null,
       "grid_auto_columns": null,
       "grid_auto_flow": null,
       "grid_auto_rows": null,
       "grid_column": null,
       "grid_gap": null,
       "grid_row": null,
       "grid_template_areas": null,
       "grid_template_columns": null,
       "grid_template_rows": null,
       "height": null,
       "justify_content": null,
       "justify_items": null,
       "left": null,
       "margin": null,
       "max_height": null,
       "max_width": null,
       "min_height": null,
       "min_width": null,
       "object_fit": null,
       "object_position": null,
       "order": null,
       "overflow": null,
       "overflow_x": null,
       "overflow_y": null,
       "padding": null,
       "right": null,
       "top": null,
       "visibility": null,
       "width": null
      }
     },
     "b61458039edb44f18325a82da2d8a3f9": {
      "model_module": "@jupyter-widgets/controls",
      "model_module_version": "1.5.0",
      "model_name": "DescriptionStyleModel",
      "state": {
       "_model_module": "@jupyter-widgets/controls",
       "_model_module_version": "1.5.0",
       "_model_name": "DescriptionStyleModel",
       "_view_count": null,
       "_view_module": "@jupyter-widgets/base",
       "_view_module_version": "1.2.0",
       "_view_name": "StyleView",
       "description_width": ""
      }
     },
     "b68418ce336844b88b1698b319e7f7d8": {
      "model_module": "@jupyter-widgets/base",
      "model_module_version": "1.2.0",
      "model_name": "LayoutModel",
      "state": {
       "_model_module": "@jupyter-widgets/base",
       "_model_module_version": "1.2.0",
       "_model_name": "LayoutModel",
       "_view_count": null,
       "_view_module": "@jupyter-widgets/base",
       "_view_module_version": "1.2.0",
       "_view_name": "LayoutView",
       "align_content": null,
       "align_items": null,
       "align_self": null,
       "border": null,
       "bottom": null,
       "display": null,
       "flex": null,
       "flex_flow": null,
       "grid_area": null,
       "grid_auto_columns": null,
       "grid_auto_flow": null,
       "grid_auto_rows": null,
       "grid_column": null,
       "grid_gap": null,
       "grid_row": null,
       "grid_template_areas": null,
       "grid_template_columns": null,
       "grid_template_rows": null,
       "height": null,
       "justify_content": null,
       "justify_items": null,
       "left": null,
       "margin": null,
       "max_height": null,
       "max_width": null,
       "min_height": null,
       "min_width": null,
       "object_fit": null,
       "object_position": null,
       "order": null,
       "overflow": null,
       "overflow_x": null,
       "overflow_y": null,
       "padding": null,
       "right": null,
       "top": null,
       "visibility": null,
       "width": null
      }
     },
     "b84cbc69dd1a4304b777b3601a6cc8ef": {
      "model_module": "@jupyter-widgets/base",
      "model_module_version": "1.2.0",
      "model_name": "LayoutModel",
      "state": {
       "_model_module": "@jupyter-widgets/base",
       "_model_module_version": "1.2.0",
       "_model_name": "LayoutModel",
       "_view_count": null,
       "_view_module": "@jupyter-widgets/base",
       "_view_module_version": "1.2.0",
       "_view_name": "LayoutView",
       "align_content": null,
       "align_items": null,
       "align_self": null,
       "border": null,
       "bottom": null,
       "display": null,
       "flex": null,
       "flex_flow": null,
       "grid_area": null,
       "grid_auto_columns": null,
       "grid_auto_flow": null,
       "grid_auto_rows": null,
       "grid_column": null,
       "grid_gap": null,
       "grid_row": null,
       "grid_template_areas": null,
       "grid_template_columns": null,
       "grid_template_rows": null,
       "height": null,
       "justify_content": null,
       "justify_items": null,
       "left": null,
       "margin": null,
       "max_height": null,
       "max_width": null,
       "min_height": null,
       "min_width": null,
       "object_fit": null,
       "object_position": null,
       "order": null,
       "overflow": null,
       "overflow_x": null,
       "overflow_y": null,
       "padding": null,
       "right": null,
       "top": null,
       "visibility": null,
       "width": null
      }
     },
     "ba645db12a894aa1b8fb8f35097597d5": {
      "model_module": "@jupyter-widgets/controls",
      "model_module_version": "1.5.0",
      "model_name": "ProgressStyleModel",
      "state": {
       "_model_module": "@jupyter-widgets/controls",
       "_model_module_version": "1.5.0",
       "_model_name": "ProgressStyleModel",
       "_view_count": null,
       "_view_module": "@jupyter-widgets/base",
       "_view_module_version": "1.2.0",
       "_view_name": "StyleView",
       "bar_color": null,
       "description_width": ""
      }
     },
     "bc6eda4169aa484d8a041b28e7dee139": {
      "model_module": "@jupyter-widgets/base",
      "model_module_version": "1.2.0",
      "model_name": "LayoutModel",
      "state": {
       "_model_module": "@jupyter-widgets/base",
       "_model_module_version": "1.2.0",
       "_model_name": "LayoutModel",
       "_view_count": null,
       "_view_module": "@jupyter-widgets/base",
       "_view_module_version": "1.2.0",
       "_view_name": "LayoutView",
       "align_content": null,
       "align_items": null,
       "align_self": null,
       "border": null,
       "bottom": null,
       "display": null,
       "flex": null,
       "flex_flow": null,
       "grid_area": null,
       "grid_auto_columns": null,
       "grid_auto_flow": null,
       "grid_auto_rows": null,
       "grid_column": null,
       "grid_gap": null,
       "grid_row": null,
       "grid_template_areas": null,
       "grid_template_columns": null,
       "grid_template_rows": null,
       "height": null,
       "justify_content": null,
       "justify_items": null,
       "left": null,
       "margin": null,
       "max_height": null,
       "max_width": null,
       "min_height": null,
       "min_width": null,
       "object_fit": null,
       "object_position": null,
       "order": null,
       "overflow": null,
       "overflow_x": null,
       "overflow_y": null,
       "padding": null,
       "right": null,
       "top": null,
       "visibility": null,
       "width": null
      }
     },
     "bec490c97e774f0e87bc8438f74bdc71": {
      "model_module": "@jupyter-widgets/controls",
      "model_module_version": "1.5.0",
      "model_name": "ProgressStyleModel",
      "state": {
       "_model_module": "@jupyter-widgets/controls",
       "_model_module_version": "1.5.0",
       "_model_name": "ProgressStyleModel",
       "_view_count": null,
       "_view_module": "@jupyter-widgets/base",
       "_view_module_version": "1.2.0",
       "_view_name": "StyleView",
       "bar_color": null,
       "description_width": ""
      }
     },
     "c2195548876145298a3346307ef47047": {
      "model_module": "@jupyter-widgets/controls",
      "model_module_version": "1.5.0",
      "model_name": "HTMLModel",
      "state": {
       "_dom_classes": [],
       "_model_module": "@jupyter-widgets/controls",
       "_model_module_version": "1.5.0",
       "_model_name": "HTMLModel",
       "_view_count": null,
       "_view_module": "@jupyter-widgets/controls",
       "_view_module_version": "1.5.0",
       "_view_name": "HTMLView",
       "description": "",
       "description_tooltip": null,
       "layout": "IPY_MODEL_fc55015dc3e7422d91d1ceaeaaccc9ab",
       "placeholder": "​",
       "style": "IPY_MODEL_47572eca94a54c589e2710e9f0119fce",
       "value": " 20/20 [00:00&lt;00:00, 563.79batch/s]"
      }
     },
     "c43a950421034417b72c0a1f0cf4caa2": {
      "model_module": "@jupyter-widgets/controls",
      "model_module_version": "1.5.0",
      "model_name": "HBoxModel",
      "state": {
       "_dom_classes": [],
       "_model_module": "@jupyter-widgets/controls",
       "_model_module_version": "1.5.0",
       "_model_name": "HBoxModel",
       "_view_count": null,
       "_view_module": "@jupyter-widgets/controls",
       "_view_module_version": "1.5.0",
       "_view_name": "HBoxView",
       "box_style": "",
       "children": [
        "IPY_MODEL_f9eca9194d5d4afc8053fde170f6f758",
        "IPY_MODEL_4e7c57e83f8b4a38a12bbdf1c01b1f4c",
        "IPY_MODEL_8e5e6d61490f4e89aaae1d519f3960c0"
       ],
       "layout": "IPY_MODEL_39dc27ac89be41589fd2f9107bc62f64"
      }
     },
     "c568da823cd34a5bb420d7a6c6e2513e": {
      "model_module": "@jupyter-widgets/base",
      "model_module_version": "1.2.0",
      "model_name": "LayoutModel",
      "state": {
       "_model_module": "@jupyter-widgets/base",
       "_model_module_version": "1.2.0",
       "_model_name": "LayoutModel",
       "_view_count": null,
       "_view_module": "@jupyter-widgets/base",
       "_view_module_version": "1.2.0",
       "_view_name": "LayoutView",
       "align_content": null,
       "align_items": null,
       "align_self": null,
       "border": null,
       "bottom": null,
       "display": null,
       "flex": null,
       "flex_flow": null,
       "grid_area": null,
       "grid_auto_columns": null,
       "grid_auto_flow": null,
       "grid_auto_rows": null,
       "grid_column": null,
       "grid_gap": null,
       "grid_row": null,
       "grid_template_areas": null,
       "grid_template_columns": null,
       "grid_template_rows": null,
       "height": null,
       "justify_content": null,
       "justify_items": null,
       "left": null,
       "margin": null,
       "max_height": null,
       "max_width": null,
       "min_height": null,
       "min_width": null,
       "object_fit": null,
       "object_position": null,
       "order": null,
       "overflow": null,
       "overflow_x": null,
       "overflow_y": null,
       "padding": null,
       "right": null,
       "top": null,
       "visibility": null,
       "width": null
      }
     },
     "c64f6e8a413e43b1895f2ae58afe7920": {
      "model_module": "@jupyter-widgets/controls",
      "model_module_version": "1.5.0",
      "model_name": "FloatProgressModel",
      "state": {
       "_dom_classes": [],
       "_model_module": "@jupyter-widgets/controls",
       "_model_module_version": "1.5.0",
       "_model_name": "FloatProgressModel",
       "_view_count": null,
       "_view_module": "@jupyter-widgets/controls",
       "_view_module_version": "1.5.0",
       "_view_name": "ProgressView",
       "bar_style": "success",
       "description": "",
       "description_tooltip": null,
       "layout": "IPY_MODEL_485ba4530edd419ca3c70e076910c76e",
       "max": 20,
       "min": 0,
       "orientation": "horizontal",
       "style": "IPY_MODEL_5048302c76cf470ca57b57891ea6ea40",
       "value": 20
      }
     },
     "c6efbe7786484006a7a342e2cce07acc": {
      "model_module": "@jupyter-widgets/controls",
      "model_module_version": "1.5.0",
      "model_name": "HBoxModel",
      "state": {
       "_dom_classes": [],
       "_model_module": "@jupyter-widgets/controls",
       "_model_module_version": "1.5.0",
       "_model_name": "HBoxModel",
       "_view_count": null,
       "_view_module": "@jupyter-widgets/controls",
       "_view_module_version": "1.5.0",
       "_view_name": "HBoxView",
       "box_style": "",
       "children": [
        "IPY_MODEL_00e3429f1fc44bfebd0f2592b8e32ea4",
        "IPY_MODEL_7730ea538d9c49b08c0213d62a906f88",
        "IPY_MODEL_9f09a0ab8cae4b0d9188204c8471b6ef"
       ],
       "layout": "IPY_MODEL_bc6eda4169aa484d8a041b28e7dee139"
      }
     },
     "c8940dbf51f547ee800b5b3a7e1a9a3c": {
      "model_module": "@jupyter-widgets/base",
      "model_module_version": "1.2.0",
      "model_name": "LayoutModel",
      "state": {
       "_model_module": "@jupyter-widgets/base",
       "_model_module_version": "1.2.0",
       "_model_name": "LayoutModel",
       "_view_count": null,
       "_view_module": "@jupyter-widgets/base",
       "_view_module_version": "1.2.0",
       "_view_name": "LayoutView",
       "align_content": null,
       "align_items": null,
       "align_self": null,
       "border": null,
       "bottom": null,
       "display": null,
       "flex": null,
       "flex_flow": null,
       "grid_area": null,
       "grid_auto_columns": null,
       "grid_auto_flow": null,
       "grid_auto_rows": null,
       "grid_column": null,
       "grid_gap": null,
       "grid_row": null,
       "grid_template_areas": null,
       "grid_template_columns": null,
       "grid_template_rows": null,
       "height": null,
       "justify_content": null,
       "justify_items": null,
       "left": null,
       "margin": null,
       "max_height": null,
       "max_width": null,
       "min_height": null,
       "min_width": null,
       "object_fit": null,
       "object_position": null,
       "order": null,
       "overflow": null,
       "overflow_x": null,
       "overflow_y": null,
       "padding": null,
       "right": null,
       "top": null,
       "visibility": null,
       "width": null
      }
     },
     "cb77948e49824ac7930f1972cc9672cf": {
      "model_module": "@jupyter-widgets/controls",
      "model_module_version": "1.5.0",
      "model_name": "ProgressStyleModel",
      "state": {
       "_model_module": "@jupyter-widgets/controls",
       "_model_module_version": "1.5.0",
       "_model_name": "ProgressStyleModel",
       "_view_count": null,
       "_view_module": "@jupyter-widgets/base",
       "_view_module_version": "1.2.0",
       "_view_name": "StyleView",
       "bar_color": null,
       "description_width": ""
      }
     },
     "cd65b1bb71764b9cac22803ce0c54be9": {
      "model_module": "@jupyter-widgets/controls",
      "model_module_version": "1.5.0",
      "model_name": "DescriptionStyleModel",
      "state": {
       "_model_module": "@jupyter-widgets/controls",
       "_model_module_version": "1.5.0",
       "_model_name": "DescriptionStyleModel",
       "_view_count": null,
       "_view_module": "@jupyter-widgets/base",
       "_view_module_version": "1.2.0",
       "_view_name": "StyleView",
       "description_width": ""
      }
     },
     "cec60ce82a674c30a673cbf539fe692a": {
      "model_module": "@jupyter-widgets/base",
      "model_module_version": "1.2.0",
      "model_name": "LayoutModel",
      "state": {
       "_model_module": "@jupyter-widgets/base",
       "_model_module_version": "1.2.0",
       "_model_name": "LayoutModel",
       "_view_count": null,
       "_view_module": "@jupyter-widgets/base",
       "_view_module_version": "1.2.0",
       "_view_name": "LayoutView",
       "align_content": null,
       "align_items": null,
       "align_self": null,
       "border": null,
       "bottom": null,
       "display": null,
       "flex": null,
       "flex_flow": null,
       "grid_area": null,
       "grid_auto_columns": null,
       "grid_auto_flow": null,
       "grid_auto_rows": null,
       "grid_column": null,
       "grid_gap": null,
       "grid_row": null,
       "grid_template_areas": null,
       "grid_template_columns": null,
       "grid_template_rows": null,
       "height": null,
       "justify_content": null,
       "justify_items": null,
       "left": null,
       "margin": null,
       "max_height": null,
       "max_width": null,
       "min_height": null,
       "min_width": null,
       "object_fit": null,
       "object_position": null,
       "order": null,
       "overflow": null,
       "overflow_x": null,
       "overflow_y": null,
       "padding": null,
       "right": null,
       "top": null,
       "visibility": null,
       "width": null
      }
     },
     "cf9b3e1cb138470fbc00badf0d91b7f6": {
      "model_module": "@jupyter-widgets/controls",
      "model_module_version": "1.5.0",
      "model_name": "FloatProgressModel",
      "state": {
       "_dom_classes": [],
       "_model_module": "@jupyter-widgets/controls",
       "_model_module_version": "1.5.0",
       "_model_name": "FloatProgressModel",
       "_view_count": null,
       "_view_module": "@jupyter-widgets/controls",
       "_view_module_version": "1.5.0",
       "_view_name": "ProgressView",
       "bar_style": "success",
       "description": "",
       "description_tooltip": null,
       "layout": "IPY_MODEL_3c7be99a69bc4b139b88a96350ec9d93",
       "max": 20,
       "min": 0,
       "orientation": "horizontal",
       "style": "IPY_MODEL_bec490c97e774f0e87bc8438f74bdc71",
       "value": 20
      }
     },
     "d11f5a470cf3497b8131906d6f24e13c": {
      "model_module": "@jupyter-widgets/base",
      "model_module_version": "1.2.0",
      "model_name": "LayoutModel",
      "state": {
       "_model_module": "@jupyter-widgets/base",
       "_model_module_version": "1.2.0",
       "_model_name": "LayoutModel",
       "_view_count": null,
       "_view_module": "@jupyter-widgets/base",
       "_view_module_version": "1.2.0",
       "_view_name": "LayoutView",
       "align_content": null,
       "align_items": null,
       "align_self": null,
       "border": null,
       "bottom": null,
       "display": null,
       "flex": null,
       "flex_flow": null,
       "grid_area": null,
       "grid_auto_columns": null,
       "grid_auto_flow": null,
       "grid_auto_rows": null,
       "grid_column": null,
       "grid_gap": null,
       "grid_row": null,
       "grid_template_areas": null,
       "grid_template_columns": null,
       "grid_template_rows": null,
       "height": null,
       "justify_content": null,
       "justify_items": null,
       "left": null,
       "margin": null,
       "max_height": null,
       "max_width": null,
       "min_height": null,
       "min_width": null,
       "object_fit": null,
       "object_position": null,
       "order": null,
       "overflow": null,
       "overflow_x": null,
       "overflow_y": null,
       "padding": null,
       "right": null,
       "top": null,
       "visibility": null,
       "width": null
      }
     },
     "dda94b4a741d46e79a9ff321c3621078": {
      "model_module": "@jupyter-widgets/controls",
      "model_module_version": "1.5.0",
      "model_name": "FloatProgressModel",
      "state": {
       "_dom_classes": [],
       "_model_module": "@jupyter-widgets/controls",
       "_model_module_version": "1.5.0",
       "_model_name": "FloatProgressModel",
       "_view_count": null,
       "_view_module": "@jupyter-widgets/controls",
       "_view_module_version": "1.5.0",
       "_view_name": "ProgressView",
       "bar_style": "success",
       "description": "",
       "description_tooltip": null,
       "layout": "IPY_MODEL_15a869eb6c8144eeadd41adf6a77aac6",
       "max": 20,
       "min": 0,
       "orientation": "horizontal",
       "style": "IPY_MODEL_679e2e4c98c34c5096112cfe23a78a95",
       "value": 20
      }
     },
     "e80349b7af8a415dad91384b38311e0d": {
      "model_module": "@jupyter-widgets/controls",
      "model_module_version": "1.5.0",
      "model_name": "DescriptionStyleModel",
      "state": {
       "_model_module": "@jupyter-widgets/controls",
       "_model_module_version": "1.5.0",
       "_model_name": "DescriptionStyleModel",
       "_view_count": null,
       "_view_module": "@jupyter-widgets/base",
       "_view_module_version": "1.2.0",
       "_view_name": "StyleView",
       "description_width": ""
      }
     },
     "f09551932f2147a78a679e75a9cfd64a": {
      "model_module": "@jupyter-widgets/base",
      "model_module_version": "1.2.0",
      "model_name": "LayoutModel",
      "state": {
       "_model_module": "@jupyter-widgets/base",
       "_model_module_version": "1.2.0",
       "_model_name": "LayoutModel",
       "_view_count": null,
       "_view_module": "@jupyter-widgets/base",
       "_view_module_version": "1.2.0",
       "_view_name": "LayoutView",
       "align_content": null,
       "align_items": null,
       "align_self": null,
       "border": null,
       "bottom": null,
       "display": null,
       "flex": null,
       "flex_flow": null,
       "grid_area": null,
       "grid_auto_columns": null,
       "grid_auto_flow": null,
       "grid_auto_rows": null,
       "grid_column": null,
       "grid_gap": null,
       "grid_row": null,
       "grid_template_areas": null,
       "grid_template_columns": null,
       "grid_template_rows": null,
       "height": null,
       "justify_content": null,
       "justify_items": null,
       "left": null,
       "margin": null,
       "max_height": null,
       "max_width": null,
       "min_height": null,
       "min_width": null,
       "object_fit": null,
       "object_position": null,
       "order": null,
       "overflow": null,
       "overflow_x": null,
       "overflow_y": null,
       "padding": null,
       "right": null,
       "top": null,
       "visibility": null,
       "width": null
      }
     },
     "f0d87933eb94475ba1e157b316aac5ab": {
      "model_module": "@jupyter-widgets/controls",
      "model_module_version": "1.5.0",
      "model_name": "HBoxModel",
      "state": {
       "_dom_classes": [],
       "_model_module": "@jupyter-widgets/controls",
       "_model_module_version": "1.5.0",
       "_model_name": "HBoxModel",
       "_view_count": null,
       "_view_module": "@jupyter-widgets/controls",
       "_view_module_version": "1.5.0",
       "_view_name": "HBoxView",
       "box_style": "",
       "children": [
        "IPY_MODEL_917a7f94d4624f4596322b80e7e90da4",
        "IPY_MODEL_9369a2f7416f4ee386b5c4d0fdc17bbf",
        "IPY_MODEL_97b7b5874f2941508bf2a306734202dc"
       ],
       "layout": "IPY_MODEL_96afad7f977641dbbd14f40bb05608e4"
      }
     },
     "f3218694066c42e1a2fa036a08b6ba39": {
      "model_module": "@jupyter-widgets/base",
      "model_module_version": "1.2.0",
      "model_name": "LayoutModel",
      "state": {
       "_model_module": "@jupyter-widgets/base",
       "_model_module_version": "1.2.0",
       "_model_name": "LayoutModel",
       "_view_count": null,
       "_view_module": "@jupyter-widgets/base",
       "_view_module_version": "1.2.0",
       "_view_name": "LayoutView",
       "align_content": null,
       "align_items": null,
       "align_self": null,
       "border": null,
       "bottom": null,
       "display": null,
       "flex": null,
       "flex_flow": null,
       "grid_area": null,
       "grid_auto_columns": null,
       "grid_auto_flow": null,
       "grid_auto_rows": null,
       "grid_column": null,
       "grid_gap": null,
       "grid_row": null,
       "grid_template_areas": null,
       "grid_template_columns": null,
       "grid_template_rows": null,
       "height": null,
       "justify_content": null,
       "justify_items": null,
       "left": null,
       "margin": null,
       "max_height": null,
       "max_width": null,
       "min_height": null,
       "min_width": null,
       "object_fit": null,
       "object_position": null,
       "order": null,
       "overflow": null,
       "overflow_x": null,
       "overflow_y": null,
       "padding": null,
       "right": null,
       "top": null,
       "visibility": null,
       "width": null
      }
     },
     "f9eca9194d5d4afc8053fde170f6f758": {
      "model_module": "@jupyter-widgets/controls",
      "model_module_version": "1.5.0",
      "model_name": "HTMLModel",
      "state": {
       "_dom_classes": [],
       "_model_module": "@jupyter-widgets/controls",
       "_model_module_version": "1.5.0",
       "_model_name": "HTMLModel",
       "_view_count": null,
       "_view_module": "@jupyter-widgets/controls",
       "_view_module_version": "1.5.0",
       "_view_name": "HTMLView",
       "description": "",
       "description_tooltip": null,
       "layout": "IPY_MODEL_f09551932f2147a78a679e75a9cfd64a",
       "placeholder": "​",
       "style": "IPY_MODEL_1f695172260b4bba8189c91f0947a4f7",
       "value": "100%"
      }
     },
     "fbd607d25bcd4f419a44910029819f0d": {
      "model_module": "@jupyter-widgets/controls",
      "model_module_version": "1.5.0",
      "model_name": "DescriptionStyleModel",
      "state": {
       "_model_module": "@jupyter-widgets/controls",
       "_model_module_version": "1.5.0",
       "_model_name": "DescriptionStyleModel",
       "_view_count": null,
       "_view_module": "@jupyter-widgets/base",
       "_view_module_version": "1.2.0",
       "_view_name": "StyleView",
       "description_width": ""
      }
     },
     "fc55015dc3e7422d91d1ceaeaaccc9ab": {
      "model_module": "@jupyter-widgets/base",
      "model_module_version": "1.2.0",
      "model_name": "LayoutModel",
      "state": {
       "_model_module": "@jupyter-widgets/base",
       "_model_module_version": "1.2.0",
       "_model_name": "LayoutModel",
       "_view_count": null,
       "_view_module": "@jupyter-widgets/base",
       "_view_module_version": "1.2.0",
       "_view_name": "LayoutView",
       "align_content": null,
       "align_items": null,
       "align_self": null,
       "border": null,
       "bottom": null,
       "display": null,
       "flex": null,
       "flex_flow": null,
       "grid_area": null,
       "grid_auto_columns": null,
       "grid_auto_flow": null,
       "grid_auto_rows": null,
       "grid_column": null,
       "grid_gap": null,
       "grid_row": null,
       "grid_template_areas": null,
       "grid_template_columns": null,
       "grid_template_rows": null,
       "height": null,
       "justify_content": null,
       "justify_items": null,
       "left": null,
       "margin": null,
       "max_height": null,
       "max_width": null,
       "min_height": null,
       "min_width": null,
       "object_fit": null,
       "object_position": null,
       "order": null,
       "overflow": null,
       "overflow_x": null,
       "overflow_y": null,
       "padding": null,
       "right": null,
       "top": null,
       "visibility": null,
       "width": null
      }
     }
    },
    "version_major": 2,
    "version_minor": 0
   }
  }
 },
 "nbformat": 4,
 "nbformat_minor": 5
}
